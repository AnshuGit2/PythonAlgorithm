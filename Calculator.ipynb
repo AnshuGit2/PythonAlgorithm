{
 "cells": [
  {
   "cell_type": "code",
   "execution_count": 41,
   "metadata": {},
   "outputs": [],
   "source": [
    "def sum():\n",
    "    num1 = int(input(\"enter num1 \"))\n",
    "    operator = input (\"Enter operator\")\n",
    "    num2 = int (input(\"enter num2 \"))\n",
    "    \n",
    "    if operator == '+':\n",
    "        print (num1+num2)\n",
    "    elif operator == '-':\n",
    "        print (num1-num2)\n",
    "    elif operator == '*':\n",
    "        print (num1*num2)\n",
    "    elif operator == '%':\n",
    "        print (num1%num2)   \n",
    "    else:\n",
    "        print (\"Invalid Operator\")    \n",
    "    \n",
    "       \n",
    "        "
   ]
  },
  {
   "cell_type": "code",
   "execution_count": 43,
   "metadata": {},
   "outputs": [
    {
     "name": "stdout",
     "output_type": "stream",
     "text": [
      "enter num1 40\n",
      "Enter operator@\n",
      "enter num2 3\n",
      "Invalid Operator\n"
     ]
    }
   ],
   "source": [
    "sum()"
   ]
  }
 ],
 "metadata": {
  "kernelspec": {
   "display_name": "Python 3",
   "language": "python",
   "name": "python3"
  },
  "language_info": {
   "codemirror_mode": {
    "name": "ipython",
    "version": 3
   },
   "file_extension": ".py",
   "mimetype": "text/x-python",
   "name": "python",
   "nbconvert_exporter": "python",
   "pygments_lexer": "ipython3",
   "version": "3.7.6"
  }
 },
 "nbformat": 4,
 "nbformat_minor": 4
}
