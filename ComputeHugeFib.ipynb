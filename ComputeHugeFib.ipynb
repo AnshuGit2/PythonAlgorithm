{
 "cells": [
  {
   "cell_type": "code",
   "execution_count": 3,
   "metadata": {},
   "outputs": [
    {
     "name": "stdout",
     "output_type": "stream",
     "text": [
      "2816213588 239\n",
      "151\n"
     ]
    }
   ],
   "source": [
    "def ComputeHugeFib(n,m):\n",
    "      \n",
    "    n1, n2, n3 = 1, 1, 0  \n",
    "    for rec in bin(n)[3:]:\n",
    "        calc = (n2*n2) % m\n",
    "        n1, n2, n3 = (n1*n1+calc) % m, ((n1+n3)*n2) % m, (calc+n3*n3) % m\n",
    "        if rec == '1': n1, n2, n3 = (n1+n2) % m, n1, n2\n",
    "    print(n2);        \n",
    "\n",
    "n,m = map(int, input().split());   \n",
    "ComputeHugeFib(n,m);"
   ]
  }
 ],
 "metadata": {
  "kernelspec": {
   "display_name": "Python 3",
   "language": "python",
   "name": "python3"
  },
  "language_info": {
   "codemirror_mode": {
    "name": "ipython",
    "version": 3
   },
   "file_extension": ".py",
   "mimetype": "text/x-python",
   "name": "python",
   "nbconvert_exporter": "python",
   "pygments_lexer": "ipython3",
   "version": "3.7.6"
  }
 },
 "nbformat": 4,
 "nbformat_minor": 4
}
