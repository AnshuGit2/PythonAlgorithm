{
 "cells": [
  {
   "cell_type": "code",
   "execution_count": 119,
   "metadata": {},
   "outputs": [
    {
     "name": "stdout",
     "output_type": "stream",
     "text": [
      "Sorted array: 8 24 29 38 42 57 75 77 \n"
     ]
    }
   ],
   "source": [
    "def dualPivotQuickSort(arr, low, high): \n",
    "      \n",
    "    if low < high: \n",
    "          \n",
    "        # lp means left pivot and rp  \n",
    "        # means right pivot \n",
    "        lp, rp = partition(arr, low, high) \n",
    "          \n",
    "        dualPivotQuickSort(arr, low, lp - 1) \n",
    "        dualPivotQuickSort(arr, lp + 1, rp - 1) \n",
    "        dualPivotQuickSort(arr, rp + 1, high) \n",
    "          \n",
    "def partition(arr, low, high): \n",
    "      \n",
    "    if arr[low] > arr[high]: \n",
    "        arr[low], arr[high] = arr[high], arr[low] \n",
    "          \n",
    "    # p is the left pivot, and q is the right pivot. \n",
    "    j = k = low + 1\n",
    "    g, p, q = high - 1, arr[low], arr[high] \n",
    "      \n",
    "    while k <= g: \n",
    "          \n",
    "        # If elements are less than the left pivot \n",
    "        if arr[k] < p: \n",
    "            arr[k], arr[j] = arr[j], arr[k] \n",
    "            j += 1\n",
    "              \n",
    "        # If elements are greater than or equal  \n",
    "        # to the right pivot \n",
    "        elif arr[k] >= q: \n",
    "            while arr[g] > q and k < g: \n",
    "                g -= 1\n",
    "                  \n",
    "            arr[k], arr[g] = arr[g], arr[k] \n",
    "            g -= 1\n",
    "              \n",
    "            if arr[k] < p: \n",
    "                arr[k], arr[j] = arr[j], arr[k] \n",
    "                j += 1\n",
    "                  \n",
    "        k += 1\n",
    "          \n",
    "    j -= 1\n",
    "    g += 1\n",
    "      \n",
    "    # Bring pivots to their appropriate positions. \n",
    "    arr[low], arr[j] = arr[j], arr[low] \n",
    "    arr[high], arr[g] = arr[g], arr[high] \n",
    "      \n",
    "    # Returning the indices of the pivots \n",
    "    return j, g \n",
    "  \n",
    "# Driver code \n",
    "arr = [ 24, 8, 42, 75, 29, 77, 38, 57 ] \n",
    "dualPivotQuickSort(arr, 0, 7) \n",
    "  \n",
    "print('Sorted array: ', end = '') \n",
    "for i in arr: \n",
    "    print(i, end = ' ') \n",
    "      \n",
    "print() \n"
   ]
  },
  {
   "cell_type": "code",
   "execution_count": null,
   "metadata": {},
   "outputs": [],
   "source": [
    "import random\n",
    "\n",
    "arr = [1, 2, 3, 5, 9, 11, 13, 20,21]\n",
    "\n",
    "pivots = random.sample(range(len(arr)), 2)\n",
    "\n",
    "p1= pivots[0]\n",
    "print(p1)\n",
    "\n",
    "p2= pivots[1]\n",
    "print(p2)\n",
    "\n",
    "def dualPivotQuickSort(arr, p1, p2): \n",
    "      \n",
    "    if p1 < p2: \n",
    "          \n",
    "        # lp means left pivot and rp  \n",
    "        # means right pivot \n",
    "        lp, rp = partition(arr, p1, p2) \n",
    "          \n",
    "        dualPivotQuickSort(arr, p1, lp - 1) \n",
    "        dualPivotQuickSort(arr, lp + 1, rp - 1) \n",
    "        dualPivotQuickSort(arr, rp + 1, p2) \n",
    "          \n",
    "def partition(arr, p1, p2): \n",
    "      \n",
    "    if arr[p1] > arr[p2]: \n",
    "        arr[p1], arr[p2] = arr[p2], arr[p1] \n",
    "          \n",
    "    # p is the left pivot, and q is the right pivot. \n",
    "    j = k = p1 + 1\n",
    "    g, p, q = p2 - 1, arr[p1], arr[p2] \n",
    "      \n",
    "    while k <= g: \n",
    "          \n",
    "        # If elements are less than the left pivot \n",
    "        if arr[k] < p: \n",
    "            arr[k], arr[j] = arr[j], arr[k] \n",
    "            j += 1\n",
    "              \n",
    "        # If elements are greater than or equal  \n",
    "        # to the right pivot \n",
    "        elif arr[k] >= q: \n",
    "            while arr[g] > q and k < g: \n",
    "                g -= 1\n",
    "                  \n",
    "            arr[k], arr[g] = arr[g], arr[k] \n",
    "            g -= 1\n",
    "              \n",
    "            if arr[k] < p: \n",
    "                arr[k], arr[j] = arr[j], arr[k] \n",
    "                j += 1\n",
    "                  \n",
    "        k += 1\n",
    "          \n",
    "    j -= 1\n",
    "    g += 1\n",
    "      \n",
    "    # Bring pivots to their appropriate positions. \n",
    "    arr[p1], arr[j] = arr[j], arr[p2] \n",
    "    arr[p2], arr[g] = arr[g], arr[p2] \n",
    "      \n",
    "    # Returning the indices of the pivots \n",
    "    return j, g \n",
    "  \n",
    "# Driver code \n",
    "#arr = [ 24, 8, 42, 75, 29, 77, 38, 57 ] \n",
    "dualPivotQuickSort(arr, 0, 7) \n",
    "  \n",
    "print(end = '') \n",
    "for i in arr: \n",
    "    print(i, end = ' ') \n",
    "      \n",
    "print() \n"
   ]
  },
  {
   "cell_type": "code",
   "execution_count": 3,
   "metadata": {},
   "outputs": [
    {
     "name": "stdout",
     "output_type": "stream",
     "text": [
      "[20, 80]\n"
     ]
    }
   ],
   "source": [
    "import random\n",
    "\n",
    "aList = [20, 40, 80, 100, 120]\n",
    "sampled_list = random.sample(aList, 2)\n",
    "print(sampled_list)\n",
    "# Output [20, 100, 80]"
   ]
  },
  {
   "cell_type": "code",
   "execution_count": 126,
   "metadata": {},
   "outputs": [
    {
     "name": "stdout",
     "output_type": "stream",
     "text": [
      "4\n",
      "3\n",
      "Sorted array: 8 57 42 38 42 57 77 77 "
     ]
    }
   ],
   "source": [
    "import random\n",
    "\n",
    "#arr = [1, 2, 3, 5, 9, 11, 13, 20,21]\n",
    "\n",
    "pivots = random.sample(range(len(arr)), 2)\n",
    "\n",
    "p1= pivots[0]\n",
    "print(p1)\n",
    "\n",
    "p2= pivots[1]\n",
    "print(p2)\n",
    "\n",
    "def dualPivotQuickSort(arr, p1, p2): \n",
    "      \n",
    "    if p1 < p2: \n",
    "          \n",
    "        # lp means left pivot and rp  \n",
    "        # means right pivot \n",
    "        lp, rp = partition(arr, p1, p2) \n",
    "          \n",
    "        dualPivotQuickSort(arr, p1, lp - 1) \n",
    "        dualPivotQuickSort(arr, lp + 1, rp - 1) \n",
    "        dualPivotQuickSort(arr, rp + 1, p2) \n",
    "          \n",
    "def partition(arr, p1, p2): \n",
    "      \n",
    "    if arr[p1] > arr[p2]: \n",
    "        arr[p1], arr[p2] = arr[p2], arr[p1] \n",
    "          \n",
    "    # p is the left pivot, and q is the right pivot. \n",
    "    j = k = p1 + 1\n",
    "    g, p, q = p2 - 1, arr[p1], arr[p2] \n",
    "      \n",
    "    while k <= g: \n",
    "          \n",
    "        # If elements are less than the left pivot \n",
    "        if arr[k] < p: \n",
    "            arr[k], arr[j] = arr[j], arr[k] \n",
    "            j += 1\n",
    "              \n",
    "        # If elements are greater than or equal  \n",
    "        # to the right pivot \n",
    "        elif arr[k] >= q: \n",
    "            while arr[g] > q and k < g: \n",
    "                g -= 1\n",
    "                  \n",
    "            arr[k], arr[g] = arr[g], arr[k] \n",
    "            g -= 1\n",
    "              \n",
    "            if arr[k] < p: \n",
    "                arr[k], arr[j] = arr[j], arr[k] \n",
    "                j += 1\n",
    "                  \n",
    "        k += 1\n",
    "          \n",
    "    j -= 1\n",
    "    g += 1\n",
    "      \n",
    "    # Bring pivots to their appropriate positions. \n",
    "    arr[p1], arr[j] = arr[j], arr[p2] \n",
    "    arr[p2], arr[g] = arr[g], arr[p2] \n",
    "      \n",
    "    # Returning the indices of the pivots \n",
    "    return j, g \n",
    "  \n",
    "# Driver code \n",
    "arr = [ 24, 8, 42, 75, 29, 77, 38, 57 ] \n",
    "dualPivotQuickSort(arr, 0, 7) \n",
    "  \n",
    "print('Sorted array: ', end = '') \n",
    "\n",
    "for i in arr: \n",
    "    print(i, end = ' ') \n",
    "      \n"
   ]
  },
  {
   "cell_type": "code",
   "execution_count": 115,
   "metadata": {},
   "outputs": [
    {
     "name": "stdout",
     "output_type": "stream",
     "text": [
      "[6, 0]\n"
     ]
    }
   ],
   "source": [
    "import random\n",
    "\n",
    "arr = [24, 8, 42, 75, 29, 77, 38, 57]\n",
    "pivots = random.sample(range(len(arr)), 2)\n",
    "print(pivots)"
   ]
  },
  {
   "cell_type": "code",
   "execution_count": 28,
   "metadata": {},
   "outputs": [
    {
     "name": "stdout",
     "output_type": "stream",
     "text": [
      "7\n"
     ]
    }
   ],
   "source": [
    "p2= pivots[1]\n",
    "print(p2)"
   ]
  },
  {
   "cell_type": "code",
   "execution_count": 22,
   "metadata": {},
   "outputs": [
    {
     "name": "stdout",
     "output_type": "stream",
     "text": [
      "7\n"
     ]
    }
   ],
   "source": [
    "print(pivots[1])"
   ]
  },
  {
   "cell_type": "code",
   "execution_count": 131,
   "metadata": {},
   "outputs": [
    {
     "name": "stdout",
     "output_type": "stream",
     "text": [
      "Sorted array: 19 2 7 6 5 6 7 19 \n"
     ]
    }
   ],
   "source": [
    "def Quicksort(A, left , right):\n",
    "    p = A[left], q = A[right]\n",
    "    \n",
    "    l = left + 1,\n",
    "    k = l \n",
    "    g = right - 1\n",
    "    \n",
    "    while k < g:\n",
    "        if A[k] < p:\n",
    "            swap1 = A[k] and A[l]\n",
    "            l= l + 1\n",
    "        else:\n",
    "            if A [k] > q:\n",
    "                if A[k] > q:\n",
    "                    while A[g] > q and k < g:\n",
    "                        g = g - 1\n",
    "                    print (g)\n",
    "                    swap =  A[k] and A[g]\n",
    "                    g = g - 1\n",
    "                    \n",
    "        if A[k] < p:\n",
    "            swap = A[k] and A[l]\n",
    "            l = l + 1\n",
    "            k = k + 1\n",
    "        print (k)\n",
    "        l = l - 1 \n",
    "        g = g + 1;\n",
    "    \n",
    "    \n",
    "    swap = A[left] and A[l]\n",
    "    swap = A[right] and A[g]\n",
    "    QuicksortYaro(A, left , l - 1)\n",
    "    QuicksortYaro(A, l + 1, g - 1)\n",
    "    QuicksortYaro(A, g + 1 , right)\n",
    "\n",
    "arr = [ 19,3,2,6,5,4,7,1 ] \n",
    "dualPivotQuickSort(arr, 0, 7) \n",
    "  \n",
    "print('Sorted array: ', end = '') \n",
    "for i in arr: \n",
    "    print(i, end = ' ') \n",
    "      \n",
    "print() \n"
   ]
  },
  {
   "cell_type": "code",
   "execution_count": 65,
   "metadata": {},
   "outputs": [
    {
     "name": "stdout",
     "output_type": "stream",
     "text": [
      "5\n"
     ]
    }
   ],
   "source": [
    "x = 5\n",
    "y = 10\n",
    "\n",
    "# To take inputs from the user\n",
    "#x = input('Enter value of x: ')\n",
    "#y = input('Enter value of y: ')\n",
    "\n",
    "# create a temporary variable and swap the values\n",
    "temp = x\n",
    "x = y\n",
    "y = temp\n",
    "print (temp)"
   ]
  },
  {
   "cell_type": "code",
   "execution_count": 127,
   "metadata": {},
   "outputs": [
    {
     "name": "stdout",
     "output_type": "stream",
     "text": [
      "Sorted array: 24 38 42 57 29 75 77 80 \n"
     ]
    }
   ],
   "source": [
    "def dual_pivot_sort(list, start, top):\n",
    "    if top <= start:\n",
    "        return\n",
    "    p = start\n",
    "    q = top\n",
    "    k = p+1\n",
    "    h = k\n",
    "    l = q-1\n",
    "    if list[p] > list[q]:\n",
    "        list[p], list[q] = list[q], list[p]\n",
    "    while k < top:\n",
    "        if list[k] < list[p]:\n",
    "            list[h], list[k] = list[k], list[h]\n",
    "            h += 1\n",
    "        elif list[k] > list[q]:\n",
    "            list[k], list[l] = list[l], list[k]\n",
    "            l -= 1\n",
    "        k += 1\n",
    "    h -= 1\n",
    "    l += 1\n",
    "    list[p], list[h] = list[h], list[p]\n",
    "    list[q], list[l] = list[l], list[q]\n",
    "    dual_pivot_sort(list, start, h-1)\n",
    "    dual_pivot_sort(list, h+1, l-1)\n",
    "    dual_pivot_sort(list, l+1, top)\n",
    "    \n",
    "arr = [ 24, 80, 42, 75, 29, 77, 38, 57 ] \n",
    "dual_pivot_sort(arr, 0, 7) \n",
    "  \n",
    "print('Sorted array: ', end = '') \n",
    "for i in arr: \n",
    "    print(i, end = ' ') \n",
    "      \n",
    "print() \n",
    "    "
   ]
  },
  {
   "cell_type": "code",
   "execution_count": 1,
   "metadata": {},
   "outputs": [
    {
     "ename": "SyntaxError",
     "evalue": "invalid syntax (<ipython-input-1-3fa58cc7be26>, line 36)",
     "output_type": "error",
     "traceback": [
      "\u001b[1;36m  File \u001b[1;32m\"<ipython-input-1-3fa58cc7be26>\"\u001b[1;36m, line \u001b[1;32m36\u001b[0m\n\u001b[1;33m    -\u001b[0m\n\u001b[1;37m     ^\u001b[0m\n\u001b[1;31mSyntaxError\u001b[0m\u001b[1;31m:\u001b[0m invalid syntax\n"
     ]
    }
   ],
   "source": [
    "\n",
    "def dual_pivot_sort1(list, start, top):\n",
    "    if top <= start:\n",
    "        return\n",
    "    p = start\n",
    "    q = top\n",
    "    k = p+1\n",
    "    h = k\n",
    "    l = q-1\n",
    "    if list[p] > list[q]:\n",
    "        list[p], list[q] = list[q], list[p]\n",
    "    while k <= l: \n",
    "    # the last non-check index is l,as l+1 to top - 1 is the part III,              \n",
    "    #where all elements > list[top] \n",
    "        if list[k] < list[p]:\n",
    "            list[h], list[k] = list[k], list[h]\n",
    "            #h is the first element of part II\n",
    "            h += 1 \n",
    "            #increase h by 1, for pointing to the first element of part II\n",
    "            k += 1 \n",
    "            #increase k by 1, because we have checked list[k]\n",
    "        elif list[k] > list[q]:\n",
    "        #l is the last element of part IV\n",
    "            list[k], list[l] = list[l], list[k]\n",
    "            #don't increase k, as we have not check list[l] yet\n",
    "            l -= 1 \n",
    "            #after swap, we should compare list[k] with list[p] and list[q] again\n",
    "        else: k += 1\n",
    "        # no swap, then the current k-th value is in part II, thus we plus 1 to k\n",
    "    h -= 1#now,h is the last element of part I\n",
    "    l += 1 #now, l is the first element of part III\n",
    "    list[p], list[h] = list[h], list[p]\n",
    "    list[q], list[l] = list[l], list[q]\n",
    "    dual_pivot_sort1(list, start, h-1)\n",
    "    dual_pivot_sort1(list, h+1, l-1)\n",
    "    dual_pivot_sort1(list, l+1, top)\n",
    "    -\n",
    "arr = [ 24, 8, 42, 75, 29, 77, 38, 57 ] \n",
    "dual_pivot_sort1(arr, 0, 7) \n",
    "  \n",
    "print('Sorted array: ', end = '') \n",
    "for i in arr: \n",
    "    print(i, end = ' ') \n",
    "      \n",
    "print() \n",
    "    "
   ]
  },
  {
   "cell_type": "code",
   "execution_count": 1,
   "metadata": {},
   "outputs": [
    {
     "ename": "NameError",
     "evalue": "name 'arr' is not defined",
     "output_type": "error",
     "traceback": [
      "\u001b[1;31m---------------------------------------------------------------------------\u001b[0m",
      "\u001b[1;31mNameError\u001b[0m                                 Traceback (most recent call last)",
      "\u001b[1;32m<ipython-input-1-c30745766865>\u001b[0m in \u001b[0;36m<module>\u001b[1;34m\u001b[0m\n\u001b[0;32m      1\u001b[0m \u001b[1;32mimport\u001b[0m \u001b[0mrandom\u001b[0m\u001b[1;33m\u001b[0m\u001b[1;33m\u001b[0m\u001b[0m\n\u001b[0;32m      2\u001b[0m \u001b[1;33m\u001b[0m\u001b[0m\n\u001b[1;32m----> 3\u001b[1;33m \u001b[0mpivots\u001b[0m \u001b[1;33m=\u001b[0m \u001b[0mrandom\u001b[0m\u001b[1;33m.\u001b[0m\u001b[0msample\u001b[0m\u001b[1;33m(\u001b[0m\u001b[0mrange\u001b[0m\u001b[1;33m(\u001b[0m\u001b[0mlen\u001b[0m\u001b[1;33m(\u001b[0m\u001b[0marr\u001b[0m\u001b[1;33m)\u001b[0m\u001b[1;33m)\u001b[0m\u001b[1;33m,\u001b[0m \u001b[1;36m2\u001b[0m\u001b[1;33m)\u001b[0m\u001b[1;33m\u001b[0m\u001b[1;33m\u001b[0m\u001b[0m\n\u001b[0m\u001b[0;32m      4\u001b[0m \u001b[1;33m\u001b[0m\u001b[0m\n\u001b[0;32m      5\u001b[0m \u001b[0mp1\u001b[0m\u001b[1;33m=\u001b[0m \u001b[0mpivots\u001b[0m\u001b[1;33m[\u001b[0m\u001b[1;36m0\u001b[0m\u001b[1;33m]\u001b[0m\u001b[1;33m\u001b[0m\u001b[1;33m\u001b[0m\u001b[0m\n",
      "\u001b[1;31mNameError\u001b[0m: name 'arr' is not defined"
     ]
    }
   ],
   "source": [
    "import random\n",
    "\n",
    "pivots = random.sample(range(len(arr)), 2)\n",
    "\n",
    "p1= pivots[0]\n",
    "p2= pivots[1]\n",
    "\n",
    "def dualPivotQuickSort(arr, p1, p2): \n",
    "      \n",
    "    if p1 < p2: \n",
    "          \n",
    "        # lp means left pivot and rp means right pivot \n",
    "        lp, rp = partition(arr, p1, p2) \n",
    "          \n",
    "        dualPivotQuickSort(arr, p1, lp - 1) \n",
    "        dualPivotQuickSort(arr, lp + 1, rp - 1) \n",
    "        dualPivotQuickSort(arr, rp + 1, p2) \n",
    "          \n",
    "def partition(arr, p1, p2): \n",
    "      \n",
    "    if arr[p1] > arr[p2]: \n",
    "        arr[p1], arr[p2] = arr[p2], arr[p1] \n",
    "          \n",
    "    # p is the left pivot, and q is the right pivot. \n",
    "    j = k = p1 + 1\n",
    "    g, p, q = p2 - 1, arr[p1], arr[p2] \n",
    "      \n",
    "    while k <= g: \n",
    "          \n",
    "        # If elements are less than the left pivot \n",
    "        if arr[k] < p: \n",
    "            arr[k], arr[j] = arr[j], arr[k] \n",
    "            j += 1\n",
    "              \n",
    "        # If elements are greater than or equal  \n",
    "        # to the right pivot \n",
    "        elif arr[k] >= q: \n",
    "            while arr[g] > q and k < g: \n",
    "                g -= 1\n",
    "                  \n",
    "            arr[k], arr[g] = arr[g], arr[k] \n",
    "            g -= 1\n",
    "              \n",
    "            if arr[k] < p: \n",
    "                arr[k], arr[j] = arr[j], arr[k] \n",
    "                j += 1\n",
    "                  \n",
    "        k += 1\n",
    "          \n",
    "    j -= 1\n",
    "    g += 1\n",
    "      \n",
    "    # Bring pivots to their appropriate positions. \n",
    "    arr[p1], arr[j] = arr[j], arr[p2] \n",
    "    arr[p2], arr[g] = arr[g], arr[p2] \n",
    "      \n",
    "    # Returning the indices of the pivots \n",
    "    return j, g \n",
    "  \n",
    "# Driver code \n",
    "arr = [ 24, 8, 42, 75, 29, 77, 38, 57 ] \n",
    "\n",
    "dualPivotQuickSort(arr, 0, 7) \n",
    "  \n",
    "print(end = '') \n",
    "for i in arr: \n",
    "    print(i, end = ' ') \n",
    "      \n",
    "print() \n"
   ]
  },
  {
   "cell_type": "code",
   "execution_count": 91,
   "metadata": {},
   "outputs": [
    {
     "name": "stdout",
     "output_type": "stream",
     "text": [
      "2\n",
      "3\n"
     ]
    }
   ],
   "source": [
    "t = random.sample(range(5), 2)\n",
    "t.sort()\n",
    "l, h = t[0], t[1]\n",
    "print(l)\n",
    "print(h)"
   ]
  },
  {
   "cell_type": "code",
   "execution_count": null,
   "metadata": {},
   "outputs": [],
   "source": [
    "import numpy as np \n",
    "\n",
    "def ran_pivot(list,l,r):\n",
    "    r = np.random.uniform(size=5) \n",
    "    r.sort()\n",
    "# printing numbers \n",
    "\n",
    "print(r)\n",
    "\n",
    "ran_pivot(r,1,2)"
   ]
  }
 ],
 "metadata": {
  "kernelspec": {
   "display_name": "Python 3",
   "language": "python",
   "name": "python3"
  },
  "language_info": {
   "codemirror_mode": {
    "name": "ipython",
    "version": 3
   },
   "file_extension": ".py",
   "mimetype": "text/x-python",
   "name": "python",
   "nbconvert_exporter": "python",
   "pygments_lexer": "ipython3",
   "version": "3.7.6"
  }
 },
 "nbformat": 4,
 "nbformat_minor": 4
}
