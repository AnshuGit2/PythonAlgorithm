{
 "cells": [
  {
   "cell_type": "code",
   "execution_count": 5,
   "metadata": {},
   "outputs": [
    {
     "name": "stdout",
     "output_type": "stream",
     "text": [
      "red\n",
      "blue\n"
     ]
    }
   ],
   "source": [
    "class Car:\n",
    "    def __init__(self, speed,color):\n",
    "        self.speed = speed\n",
    "        self.color = color\n",
    "   \n",
    "        \n",
    "ford = Car (200, 'red')\n",
    "honda = Car (250, 'blue')\n",
    "audi = Car (300, 'black')\n",
    "\n",
    "#ford.color ='green'\n",
    "\n",
    "print (ford.color)\n",
    "print (honda.color)\n",
    "    "
   ]
  },
  {
   "cell_type": "code",
   "execution_count": 8,
   "metadata": {},
   "outputs": [
    {
     "name": "stdout",
     "output_type": "stream",
     "text": [
      "300\n",
      "red\n"
     ]
    }
   ],
   "source": [
    "class Car:\n",
    "    def __init__(self, speed,color):\n",
    "        self.speed = speed\n",
    "        self.color = color\n",
    "    def set_speed(self, value):   # setting the value or input\n",
    "        self.speed = value\n",
    "        \n",
    "    def get_speed(self):         # getting the value or output \n",
    "        return self.speed\n",
    "        \n",
    "        \n",
    "ford = Car (200, 'red')\n",
    "honda = Car (250, 'blue')\n",
    "audi = Car (300, 'black')\n",
    "\n",
    "#now calling the ford.set_speed object and passing the value 300 in set method \n",
    "\n",
    "ford.set_speed(300)\n",
    "\n",
    "print (ford.get_speed())\n",
    "print (ford.color)\n",
    "    "
   ]
  },
  {
   "cell_type": "code",
   "execution_count": 21,
   "metadata": {},
   "outputs": [
    {
     "name": "stdout",
     "output_type": "stream",
     "text": [
      "10\n",
      "20\n"
     ]
    },
    {
     "ename": "AttributeError",
     "evalue": "'Hello' object has no attribute '__c'",
     "output_type": "error",
     "traceback": [
      "\u001b[1;31m---------------------------------------------------------------------------\u001b[0m",
      "\u001b[1;31mAttributeError\u001b[0m                            Traceback (most recent call last)",
      "\u001b[1;32m<ipython-input-21-6343dc676dcf>\u001b[0m in \u001b[0;36m<module>\u001b[1;34m\u001b[0m\n\u001b[0;32m      8\u001b[0m \u001b[0mprint\u001b[0m \u001b[1;33m(\u001b[0m\u001b[0mhello\u001b[0m\u001b[1;33m.\u001b[0m\u001b[0ma\u001b[0m\u001b[1;33m)\u001b[0m\u001b[1;33m\u001b[0m\u001b[1;33m\u001b[0m\u001b[0m\n\u001b[0;32m      9\u001b[0m \u001b[0mprint\u001b[0m \u001b[1;33m(\u001b[0m\u001b[0mhello\u001b[0m\u001b[1;33m.\u001b[0m\u001b[0m_b\u001b[0m\u001b[1;33m)\u001b[0m\u001b[1;33m\u001b[0m\u001b[1;33m\u001b[0m\u001b[0m\n\u001b[1;32m---> 10\u001b[1;33m \u001b[0mprint\u001b[0m \u001b[1;33m(\u001b[0m\u001b[0mhello\u001b[0m\u001b[1;33m.\u001b[0m\u001b[0m__c\u001b[0m\u001b[1;33m)\u001b[0m\u001b[1;33m\u001b[0m\u001b[1;33m\u001b[0m\u001b[0m\n\u001b[0m\u001b[0;32m     11\u001b[0m \u001b[1;33m\u001b[0m\u001b[0m\n",
      "\u001b[1;31mAttributeError\u001b[0m: 'Hello' object has no attribute '__c'"
     ]
    }
   ],
   "source": [
    "# example for making variable private \n",
    "\n",
    "class Hello:\n",
    "    def __init__(self, name):\n",
    "        self.a = 10      # variable a,b,c\n",
    "        self._b = 20\n",
    "        self.__c = 30    # double underscore _ _ for making variable private \n",
    "        \n",
    "hello = Hello('name')\n",
    "print (hello.a)\n",
    "print (hello._b)\n",
    "print (hello.__c)\n",
    "        "
   ]
  },
  {
   "cell_type": "code",
   "execution_count": 20,
   "metadata": {},
   "outputs": [
    {
     "name": "stdout",
     "output_type": "stream",
     "text": [
      "200\n",
      "red\n"
     ]
    }
   ],
   "source": [
    "# setter and getter method and making variables private by __ double under score\n",
    "\n",
    "\n",
    "class Car:\n",
    "    def __init__(self, speed,color):\n",
    "        self.__speed = speed\n",
    "        self.__color = color\n",
    "        \n",
    "    def set_speed(self, value):   # setting the value or input\n",
    "        self.__speed = value\n",
    "        \n",
    "    def get_speed(self):         # getting the value or output \n",
    "        return self.__speed\n",
    "        \n",
    "        \n",
    "    def set_color(self, value):   # setting the value or input\n",
    "        self.__color = value\n",
    "        \n",
    "    def get_color(self):         # getting the value or output \n",
    "        return self.__color\n",
    "        \n",
    "        \n",
    "ford = Car (200, 'red')\n",
    "honda = Car (250, 'blue')\n",
    "audi = Car (300, 'black')\n",
    "\n",
    "#now calling the ford.set_speed object and passing the value 300 in set method \n",
    "\n",
    "\n",
    "#ford.__speed = 400 # now we have to protect our data it should not be changable so we have to make our attributes private\n",
    "\n",
    "#ford.set_speed(300)\n",
    "#ford.set_color('red')\n",
    "print (ford.get_speed())\n",
    "print (ford.get_color())\n",
    "    "
   ]
  },
  {
   "cell_type": "code",
   "execution_count": null,
   "metadata": {},
   "outputs": [],
   "source": []
  }
 ],
 "metadata": {
  "kernelspec": {
   "display_name": "Python 3",
   "language": "python",
   "name": "python3"
  },
  "language_info": {
   "codemirror_mode": {
    "name": "ipython",
    "version": 3
   },
   "file_extension": ".py",
   "mimetype": "text/x-python",
   "name": "python",
   "nbconvert_exporter": "python",
   "pygments_lexer": "ipython3",
   "version": "3.7.6"
  }
 },
 "nbformat": 4,
 "nbformat_minor": 4
}
