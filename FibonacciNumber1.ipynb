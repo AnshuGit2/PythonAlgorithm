{
 "cells": [
  {
   "cell_type": "code",
   "execution_count": 6,
   "metadata": {},
   "outputs": [
    {
     "name": "stdout",
     "output_type": "stream",
     "text": [
      "10\n",
      "55\n"
     ]
    }
   ],
   "source": [
    "fibonacci_cache={}\n",
    "\n",
    "def fibonacci(n):\n",
    "    if n in fibonacci_cache:\n",
    "        return fibonacci_cache[n]\n",
    "    if n ==1:\n",
    "        value=1\n",
    "    elif n ==2:\n",
    "        value=1\n",
    "    elif n> 2:\n",
    "        value =fibonacci(n-1)+ fibonacci(n-2)\n",
    "     \n",
    "    fibonacci_cache[n] = value\n",
    "    return value\n",
    "\n",
    "n = int(input())\n",
    "print (fibonacci(n))\n",
    "\n",
    "#for n in range(1 , 11):\n",
    "    #print(n, \":\", fibonacci(n))\n",
    "\n",
    "# inputs 10 output 55, 20 - 6765, 331 - 668996615388005031531000081241745415306766517246774551964595292186469\n"
   ]
  },
  {
   "cell_type": "code",
   "execution_count": null,
   "metadata": {},
   "outputs": [],
   "source": []
  }
 ],
 "metadata": {
  "kernelspec": {
   "display_name": "Python 3",
   "language": "python",
   "name": "python3"
  },
  "language_info": {
   "codemirror_mode": {
    "name": "ipython",
    "version": 3
   },
   "file_extension": ".py",
   "mimetype": "text/x-python",
   "name": "python",
   "nbconvert_exporter": "python",
   "pygments_lexer": "ipython3",
   "version": "3.7.6"
  }
 },
 "nbformat": 4,
 "nbformat_minor": 4
}
