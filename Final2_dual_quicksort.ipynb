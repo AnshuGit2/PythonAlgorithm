{
 "cells": [
  {
   "cell_type": "code",
   "execution_count": 1,
   "metadata": {},
   "outputs": [
    {
     "name": "stdout",
     "output_type": "stream",
     "text": [
      "Sorted Aay: 29318 40498 46142 49004 53506 57045 57974 62542 \n"
     ]
    }
   ],
   "source": [
    "import time\n",
    "import random\n",
    "\n",
    "def dualPivot_QSort(A, start, end):\n",
    "\n",
    "    if start< end:\n",
    "\n",
    "        lp, rp = partition(A, start, end)\n",
    "        dualPivot_QSort(A, start, lp - 1)\n",
    "        dualPivot_QSort(A, lp + 1, rp - 1)\n",
    "        dualPivot_QSort(A, rp + 1, end)\n",
    "\n",
    "def partition(A, start, end):\n",
    "\n",
    "    if A[start] > A[end]:\n",
    "        A[start], A[end] = A[end], A[start]\n",
    "\n",
    "    j = x = start+ 1\n",
    "    g, p, q = end - 1, A[start], A[end]\n",
    "\n",
    "    while x <= g:\n",
    "\n",
    "        if A[x] < p:\n",
    "            A[x], A[j] = A[j], A[x]\n",
    "            j += 1\n",
    "      \n",
    "        elif A[x] >= q:\n",
    "            while A[g] > q and x < g:\n",
    "                g -= 1\n",
    "\n",
    "            A[x], A[g] = A[g], A[x]\n",
    "            g -= 1\n",
    "\n",
    "            if A[x] < p:\n",
    "                A[x], A[j] = A[j], A[x]\n",
    "                j += 1\n",
    "\n",
    "        x += 1\n",
    "    j -= 1\n",
    "    g += 1\n",
    "\n",
    "    A[start], A[j] = A[j], A[start]\n",
    "    A[end], A[g] = A[g], A[end]\n",
    "\n",
    "    return j, g\n",
    "\n",
    "A = random.sample(range(64000), 8)\n",
    "tic_ds = time.perf_counter()\n",
    "t =random.sample(range(len(A)), 2)\n",
    "\n",
    "A[0], A[t[0]], A[len(A)-1] , A[t[1]] = A[t[0]] , A[0], A[t[1]] , A[len(A) - 1]\n",
    "\n",
    "dualPivot_QSort(A, 0, 7)\n",
    "toc_ds = time.perf_counter()\n",
    "\n",
    "#print(f\"Downloaded the dual pivot in {toc_ds - tic_ds:0.4f} seconds\")\n",
    "print('Sorted Aay: ', end = '')\n",
    "for i in A:\n",
    "    print(i, end = ' ')\n",
    "print()\n"
   ]
  },
  {
   "cell_type": "code",
   "execution_count": null,
   "metadata": {},
   "outputs": [],
   "source": []
  }
 ],
 "metadata": {
  "kernelspec": {
   "display_name": "Python 3",
   "language": "python",
   "name": "python3"
  },
  "language_info": {
   "codemirror_mode": {
    "name": "ipython",
    "version": 3
   },
   "file_extension": ".py",
   "mimetype": "text/x-python",
   "name": "python",
   "nbconvert_exporter": "python",
   "pygments_lexer": "ipython3",
   "version": "3.7.6"
  }
 },
 "nbformat": 4,
 "nbformat_minor": 4
}
