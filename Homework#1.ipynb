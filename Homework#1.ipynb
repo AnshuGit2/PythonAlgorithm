{
 "cells": [
  {
   "cell_type": "code",
   "execution_count": 1,
   "metadata": {},
   "outputs": [
    {
     "name": "stdout",
     "output_type": "stream",
     "text": [
      "90 20 40 30\n",
      "90\n"
     ]
    }
   ],
   "source": [
    "#Name:         Anshu Rathor \n",
    "#Program name: Maximal Array\n",
    "#Date:         02/01/21\n",
    "#Program description: This is program to initialize max as first element, then traverse \n",
    "#the given array from second element till end. For every traversed element, compare it with max,\n",
    "#if it is greater than max, then update max.\n",
    "\n",
    "import math                                         #module instance\n",
    "\n",
    "negative_infinity = -math.inf                       \n",
    "arr = input().split()  # 90 20 30 40                # creating list of elements\n",
    "if len(arr)==0:                                     # empty array \n",
    "    print('Negative Infinity: ', negative_infinity) # print \"-infinity\" if array is empty\n",
    "else:\n",
    "    max = arr [0]                                   # Initializing element \n",
    "# Driver code\n",
    "for j in range(1,len(arr)):                         # Traverse array elements from second element \n",
    "      if arr [j]>max:                               # and compare every element with max\n",
    "        max= arr[j]\n",
    "print(max)"
   ]
  },
  {
   "cell_type": "code",
   "execution_count": 8,
   "metadata": {},
   "outputs": [
    {
     "name": "stdout",
     "output_type": "stream",
     "text": [
      "Result: [11, 17, 39, 48, 49, 54, 65, 67, 75, 84]\n",
      "Time:  0.00013339999713934958\n"
     ]
    }
   ],
   "source": [
    "#Name:         Anshu Rathor \n",
    "#Program name: Maximal Array\n",
    "#Date:         02/01/21\n",
    "#Program description: Slowsort program\n",
    "\n",
    "\n",
    "import timeit                          # time module\n",
    "import random                          # random module\n",
    "\n",
    "def SlowSort(A, i, j):                 # initilizing funtion           \n",
    "    if i >= j:\n",
    "        return\n",
    "    \n",
    "    m = ((i + j) // 2)\n",
    "    SlowSort(A, i, m)\n",
    "    SlowSort(A, m + 1, j)\n",
    "    \n",
    "    if A[m] > A[j]:\n",
    "        A[m], A[j] = A[j], A[m]  # swaping between j and m \n",
    "    SlowSort(A, i, j - 1)\n",
    "    \n",
    "    return A\n",
    "\n",
    "# Example run of SlowSort\n",
    "\n",
    "def main():\n",
    "    arr = random.sample(range(1, 100), 10)   \n",
    "    \n",
    "    start = timeit.default_timer()\n",
    "    print(\"Result: \" + str(SlowSort(arr, 0, len(arr) - 1)))\n",
    "    \n",
    "    stop = timeit.default_timer()\n",
    "    print('Time: ', stop - start)  \n",
    "\n",
    "if __name__ == \"__main__\":\n",
    "    main()\n"
   ]
  },
  {
   "cell_type": "code",
   "execution_count": 38,
   "metadata": {},
   "outputs": [],
   "source": [
    "#Name:         Anshu Rathor \n",
    "#Program name: Calculation \n",
    "#Date:         02/01/21\n",
    "#Program description: code that calculates a\n",
    "# a and b are integers and b ≥ 0 while terminating.\n",
    "\n",
    "\n",
    "def cal_power(a, b):\n",
    "    \n",
    "    c = 1 \n",
    "    while b > 0:\n",
    "        # If b is odd\n",
    "        if b % 2 == 1:                 \n",
    "            c = (c * a) #step 1: 2, Step 2: 8,\n",
    "\n",
    "        # Divide the b by 2\n",
    "        b = b // 2                   #Step 1: 2 / 2 = , Step 2: 0,     \n",
    "        # Multiply a to itself\n",
    "        a = (a * a)                  #step 1: 2*2 = 4, Step 2: 16,\n",
    "\n",
    "    return c"
   ]
  },
  {
   "cell_type": "code",
   "execution_count": 39,
   "metadata": {},
   "outputs": [
    {
     "data": {
      "text/plain": [
       "8"
      ]
     },
     "execution_count": 39,
     "metadata": {},
     "output_type": "execute_result"
    }
   ],
   "source": [
    "cal_power(2,3)\n"
   ]
  }
 ],
 "metadata": {
  "kernelspec": {
   "display_name": "Python 3",
   "language": "python",
   "name": "python3"
  },
  "language_info": {
   "codemirror_mode": {
    "name": "ipython",
    "version": 3
   },
   "file_extension": ".py",
   "mimetype": "text/x-python",
   "name": "python",
   "nbconvert_exporter": "python",
   "pygments_lexer": "ipython3",
   "version": "3.7.6"
  }
 },
 "nbformat": 4,
 "nbformat_minor": 4
}
