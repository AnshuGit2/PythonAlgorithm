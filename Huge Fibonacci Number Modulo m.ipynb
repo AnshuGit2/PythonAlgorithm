{
 "cells": [
  {
   "cell_type": "code",
   "execution_count": 9,
   "metadata": {},
   "outputs": [
    {
     "name": "stdout",
     "output_type": "stream",
     "text": [
      "2816213588 239\n",
      "151\n"
     ]
    }
   ],
   "source": [
    "def Huge_Fib(n,m):\n",
    "\n",
    "    # Initialize a matrix [[1,1],[1,0]]    \n",
    "    v1, v2, v3 = 1, 1, 0  \n",
    "    # Perform fast exponentiation of the matrix (quickly raise it to the nth power)\n",
    "    for rec in bin(n)[3:]:\n",
    "        calc = (v2*v2) % m\n",
    "        v1, v2, v3 = (v1*v1+calc) % m, ((v1+v3)*v2) % m, (calc+v3*v3) % m\n",
    "        if rec == '1': v1, v2, v3 = (v1+v2) % m, v1, v2\n",
    "    print(v2);        \n",
    "\n",
    "n,m = map(int, input().split());   \n",
    "Huge_Fib(n,m);"
   ]
  },
  {
   "cell_type": "code",
   "execution_count": null,
   "metadata": {},
   "outputs": [],
   "source": []
  }
 ],
 "metadata": {
  "kernelspec": {
   "display_name": "Python 3",
   "language": "python",
   "name": "python3"
  },
  "language_info": {
   "codemirror_mode": {
    "name": "ipython",
    "version": 3
   },
   "file_extension": ".py",
   "mimetype": "text/x-python",
   "name": "python",
   "nbconvert_exporter": "python",
   "pygments_lexer": "ipython3",
   "version": "3.7.6"
  }
 },
 "nbformat": 4,
 "nbformat_minor": 4
}
