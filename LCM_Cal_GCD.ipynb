{
 "cells": [
  {
   "cell_type": "code",
   "execution_count": 2,
   "metadata": {},
   "outputs": [
    {
     "name": "stdout",
     "output_type": "stream",
     "text": [
      "4 4\n"
     ]
    }
   ],
   "source": [
    "# Uses python3\n",
    "user_input = input()\n",
    "a, b = map(int, user_input.split())\n"
   ]
  },
  {
   "cell_type": "code",
   "execution_count": 3,
   "metadata": {},
   "outputs": [
    {
     "name": "stdout",
     "output_type": "stream",
     "text": [
      "LCM of number is 4\n",
      "LCM of number is 8\n",
      "LCM of number is 12\n",
      "LCM of number is 16\n"
     ]
    }
   ],
   "source": [
    "for m in range (1,a*b +1):\n",
    "    if m%a==0 and m%b==0:\n",
    "        print (\"LCM of number is\",m)"
   ]
  },
  {
   "cell_type": "code",
   "execution_count": null,
   "metadata": {},
   "outputs": [],
   "source": [
    "def CalGCD(a,b): \n",
    "    if a == 0: \n",
    "        return b \n",
    "    return (int (CalGCD(b % a, a))) \n",
    "\n",
    "def CalLCM(a,b): \n",
    "    return (int(a*b) // CalGCD(a,b))\n",
    "\n",
    "user_input = input()\n",
    "a, b = map(int, user_input.split())\n",
    "print(CalLCM(a, b)) \n"
   ]
  },
  {
   "cell_type": "code",
   "execution_count": null,
   "metadata": {},
   "outputs": [],
   "source": []
  }
 ],
 "metadata": {
  "kernelspec": {
   "display_name": "Python 3",
   "language": "python",
   "name": "python3"
  },
  "language_info": {
   "codemirror_mode": {
    "name": "ipython",
    "version": 3
   },
   "file_extension": ".py",
   "mimetype": "text/x-python",
   "name": "python",
   "nbconvert_exporter": "python",
   "pygments_lexer": "ipython3",
   "version": "3.7.6"
  }
 },
 "nbformat": 4,
 "nbformat_minor": 4
}
