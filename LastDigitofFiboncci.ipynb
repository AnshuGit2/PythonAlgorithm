{
 "cells": [
  {
   "cell_type": "code",
   "execution_count": null,
   "metadata": {},
   "outputs": [],
   "source": [
    "\n",
    "def fib_last_digit(n):\n",
    "    if n < 2: return n\n",
    "    else:\n",
    "        fib1, fib2 = 0, 1\n",
    "        for i in range(1,n):\n",
    "            fib1, fib2 = fib2, (fib1+fib2) % 10\n",
    "        print(fib2)\n",
    "\n",
    "n = int(input())\n",
    "fib_last_digit(n)\n"
   ]
  }
 ],
 "metadata": {
  "kernelspec": {
   "display_name": "Python 3",
   "language": "python",
   "name": "python3"
  },
  "language_info": {
   "codemirror_mode": {
    "name": "ipython",
    "version": 3
   },
   "file_extension": ".py",
   "mimetype": "text/x-python",
   "name": "python",
   "nbconvert_exporter": "python",
   "pygments_lexer": "ipython3",
   "version": "3.7.6"
  }
 },
 "nbformat": 4,
 "nbformat_minor": 4
}
