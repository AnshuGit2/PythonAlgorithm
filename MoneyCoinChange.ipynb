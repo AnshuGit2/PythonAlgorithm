{
 "cells": [
  {
   "cell_type": "code",
   "execution_count": 4,
   "metadata": {},
   "outputs": [
    {
     "name": "stdout",
     "output_type": "stream",
     "text": [
      "39\n",
      "8\n",
      "10 10 10 5 1 1 1 1 "
     ]
    }
   ],
   "source": [
    "def findMin(V): \n",
    "        \n",
    "    deno = [1, 5, 10] \n",
    "    n = len(deno) \n",
    "      \n",
    "    # Initialize Result \n",
    "    ans = [] \n",
    "  \n",
    "    # Traverse through all denomination \n",
    "    i = n - 1\n",
    "    while(i >= 0): \n",
    "          \n",
    "        # Find denominations \n",
    "        while (V >= deno[i]): \n",
    "            V -= deno[i] \n",
    "            ans.append(deno[i]) \n",
    "  \n",
    "        i -= 1\n",
    "     \n",
    "    print( len(ans)) \n",
    "    for i in range(len(ans)): \n",
    "     print(ans[i], end = \" \") \n",
    "  \n",
    "if __name__ == '__main__': \n",
    "    n =int(input())\n",
    "    findMin(n) "
   ]
  },
  {
   "cell_type": "code",
   "execution_count": null,
   "metadata": {},
   "outputs": [],
   "source": []
  }
 ],
 "metadata": {
  "kernelspec": {
   "display_name": "Python 3",
   "language": "python",
   "name": "python3"
  },
  "language_info": {
   "codemirror_mode": {
    "name": "ipython",
    "version": 3
   },
   "file_extension": ".py",
   "mimetype": "text/x-python",
   "name": "python",
   "nbconvert_exporter": "python",
   "pygments_lexer": "ipython3",
   "version": "3.7.6"
  }
 },
 "nbformat": 4,
 "nbformat_minor": 4
}
