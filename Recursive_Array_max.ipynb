{
 "cells": [
  {
   "cell_type": "code",
   "execution_count": 27,
   "metadata": {},
   "outputs": [
    {
     "name": "stdout",
     "output_type": "stream",
     "text": [
      "58\n"
     ]
    }
   ],
   "source": [
    "#find max recursive\n",
    "\n",
    "def max_rec(a, n):\n",
    "    for i in range (0,n):\n",
    "        if (n == 1): # n = 1 index 1 \n",
    "            return a[0] \n",
    "        return max(a[n - 1], max_rec(a, n - 1))  #comapring and swaping\n",
    "  \n",
    "      \n",
    "a = [58, 8, 50, 3, -100, 19]      # list \n",
    "#n = len(a)                     # lenght of list \n",
    "print(max_rec(a,n)) "
   ]
  },
  {
   "cell_type": "code",
   "execution_count": 7,
   "metadata": {},
   "outputs": [
    {
     "name": "stdout",
     "output_type": "stream",
     "text": [
      "45\n"
     ]
    }
   ],
   "source": [
    "def findMaxRec(A, n): \n",
    "  \n",
    "    # if n = 0 means whole array  \n",
    "    # has been traversed \n",
    "    if (n == 1): \n",
    "        return A[0] \n",
    "    return max(A[n - 1], findMaxRec(A, n - 1)) \n",
    "      \n",
    "A = [1, 4, 45, 6, -50, 10, 2] \n",
    "n = len(A) \n",
    "print(findMaxRec(A, n)) \n"
   ]
  },
  {
   "cell_type": "code",
   "execution_count": 3,
   "metadata": {},
   "outputs": [
    {
     "name": "stdout",
     "output_type": "stream",
     "text": [
      "4\n"
     ]
    }
   ],
   "source": [
    "print(max(2, 4))"
   ]
  },
  {
   "cell_type": "code",
   "execution_count": 21,
   "metadata": {},
   "outputs": [
    {
     "name": "stdout",
     "output_type": "stream",
     "text": [
      "50\n"
     ]
    }
   ],
   "source": [
    "def findMaxRec(A, n): \n",
    "  \n",
    "    # if n = 0 means whole array  \n",
    "    # has been traversed \n",
    "    for i in range (0,n):\n",
    "        if (n == 1): \n",
    "            return A[0] \n",
    "    return max(A[n - 1], findMaxRec(A, n - 1)) \n",
    "      \n",
    "A = [1, 4, 45, 6, 50, 10, 2] \n",
    "n = len(A) \n",
    "print(findMaxRec(A, n)) \n"
   ]
  }
 ],
 "metadata": {
  "kernelspec": {
   "display_name": "Python 3",
   "language": "python",
   "name": "python3"
  },
  "language_info": {
   "codemirror_mode": {
    "name": "ipython",
    "version": 3
   },
   "file_extension": ".py",
   "mimetype": "text/x-python",
   "name": "python",
   "nbconvert_exporter": "python",
   "pygments_lexer": "ipython3",
   "version": "3.7.6"
  }
 },
 "nbformat": 4,
 "nbformat_minor": 4
}
