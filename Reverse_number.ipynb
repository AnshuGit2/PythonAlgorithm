{
 "cells": [
  {
   "cell_type": "code",
   "execution_count": null,
   "metadata": {},
   "outputs": [],
   "source": []
  },
  {
   "cell_type": "code",
   "execution_count": 3,
   "metadata": {},
   "outputs": [
    {
     "name": "stdout",
     "output_type": "stream",
     "text": [
      "Enter the number: 09876\n",
      "67890\n"
     ]
    }
   ],
   "source": [
    "# naive way\n",
    "\n",
    "num = input (\"Enter the number: \")\n",
    "rev_num = num [::-1]\n",
    "rev_number =int(rev_num)\n",
    "print (rev_num)"
   ]
  },
  {
   "cell_type": "code",
   "execution_count": 4,
   "metadata": {},
   "outputs": [
    {
     "name": "stdout",
     "output_type": "stream",
     "text": [
      "Enter the number: 12\n",
      "21\n"
     ]
    }
   ],
   "source": [
    "# another way \n",
    "print (input(\"Enter the number: \")[::-1])"
   ]
  },
  {
   "cell_type": "code",
   "execution_count": 20,
   "metadata": {},
   "outputs": [
    {
     "name": "stdout",
     "output_type": "stream",
     "text": [
      "1\n"
     ]
    }
   ],
   "source": [
    "# Pratice 1\n",
    "\n",
    "def reverse_signed(num):\n",
    "    sum=0\n",
    "    sign=1\n",
    "    if num<0:\n",
    "        sign=-1\n",
    "        num=num*-1\n",
    "    while num>0:\n",
    "        rem=num%10\n",
    "        sum=sum*10+rem\n",
    "        num=num//10\n",
    "    if not -2147483648<sum<2147483647:\n",
    "        return 0\n",
    "    return sign*sum\n",
    "\n",
    "print(reverse_signed(100))"
   ]
  },
  {
   "cell_type": "code",
   "execution_count": 1,
   "metadata": {},
   "outputs": [],
   "source": [
    "# final\n",
    "\n",
    "class Solution(object):\n",
    "    def reverse(self, x):\n",
    "        \"\"\"\n",
    "        :type x: int\n",
    "        :rtype: int\n",
    "        \"\"\"\n",
    "        max_int = 2147483649\n",
    "        min_int = -2147483648\n",
    "        ans = int(str(abs(x))[::-1])\n",
    "        return ans * (abs(x)//x) if min_int < ans < max_int and ans else 0\n",
    "\n",
    "\n",
    "\n"
   ]
  },
  {
   "cell_type": "code",
   "execution_count": null,
   "metadata": {},
   "outputs": [],
   "source": [
    "rev_num = 0\n",
    "        if x>=0:\n",
    "            while x>0:\n",
    "                rev_num = x%10 + rev_num*10\n",
    "                x = x//10\n",
    "            if -(2**31) < rev_num < 2**31-1:\n",
    "                return rev_num\n",
    "            else:\n",
    "                return 0\n",
    "        else:\n",
    "            x = abs(x)\n",
    "            while x>0:\n",
    "                rev_num = x%10 + rev_num*10\n",
    "                x = x//10\n",
    "            if -(2**31) < rev_num < 2**31-1:\n",
    "                return -rev_num\n",
    "            else:\n",
    "                return 0\n",
    "        "
   ]
  },
  {
   "cell_type": "code",
   "execution_count": 3,
   "metadata": {},
   "outputs": [],
   "source": [
    "class Solution:\n",
    "    def reverse(self, x: int) -> int:\n",
    "        reverse_num = 0\n",
    "        num = x\n",
    "        \n",
    "        if x < 0:\n",
    "            x = x * -1\n",
    "        \n",
    "        while x > 0:\n",
    "            reminder = x % 10\n",
    "            reverse_num = (reverse_num * 10) + reminder\n",
    "            x = x // 10\n",
    "            \n",
    "        if (reverse_num > 2147483647) or (reverse_num < -2147483648):\n",
    "            return 0\n",
    "    \n",
    "        if num < 0:\n",
    "            return reverse_num * -1\n",
    "        \n",
    "        return reverse_num\n",
    "        "
   ]
  },
  {
   "cell_type": "code",
   "execution_count": 4,
   "metadata": {},
   "outputs": [],
   "source": [
    "def reverse(self, x):\n",
    "        \"\"\"\n",
    "        :type x: int\n",
    "        :rtype: int\n",
    "        \"\"\"\n",
    "        max_int = 2147483649\n",
    "        min_int = -2147483648\n",
    "        ans = int(str(abs(x))[::-1])\n",
    "        return ans * (abs(x)//x) if min_int < ans < max_int and ans else 0"
   ]
  },
  {
   "cell_type": "code",
   "execution_count": null,
   "metadata": {},
   "outputs": [],
   "source": []
  }
 ],
 "metadata": {
  "kernelspec": {
   "display_name": "Python 3",
   "language": "python",
   "name": "python3"
  },
  "language_info": {
   "codemirror_mode": {
    "name": "ipython",
    "version": 3
   },
   "file_extension": ".py",
   "mimetype": "text/x-python",
   "name": "python",
   "nbconvert_exporter": "python",
   "pygments_lexer": "ipython3",
   "version": "3.8.5"
  }
 },
 "nbformat": 4,
 "nbformat_minor": 4
}
