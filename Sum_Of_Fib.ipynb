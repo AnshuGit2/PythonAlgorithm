{
 "cells": [
  {
   "cell_type": "code",
   "execution_count": null,
   "metadata": {},
   "outputs": [],
   "source": [
    "def fib(n):\n",
    "    a, b = 0, 1\n",
    "    r = 1\n",
    "    if n < 1:\n",
    "        return 0\n",
    "    for i in range(n - 1):\n",
    "        a, b = b, (a + b)%10\n",
    "        r += b\n",
    "        r %= 10\n",
    "    return r\n",
    "print (fib(n))"
   ]
  },
  {
   "cell_type": "code",
   "execution_count": null,
   "metadata": {},
   "outputs": [],
   "source": [
    "def fibonacci_sum(n):\n",
    "\n",
    "    pisano = 60\n",
    "\n",
    "    if n < 2: return n\n",
    "\n",
    "    n %= pisano\n",
    "\n",
    "    fib_arr = [1,1]\n",
    "    for _ in range(n):\n",
    "        fib_arr.append((fib_arr[-1] + fib_arr[-2]) % 10)\n",
    "\n",
    "    return (fib_arr[-1] - 1) % 10\n",
    "print(n)"
   ]
  },
  {
   "cell_type": "code",
   "execution_count": null,
   "metadata": {},
   "outputs": [],
   "source": [
    "n = int(input())\n",
    "\n",
    "def lastfib(n):\n",
    "    a, b = 0, 1\n",
    "    for i in range(n+2):\n",
    "        a, b = b, a + b\n",
    "    return (a-1) % 10\n",
    "\n",
    "print(lastfib(n))"
   ]
  },
  {
   "cell_type": "code",
   "execution_count": null,
   "metadata": {},
   "outputs": [],
   "source": [
    "n = int (input())\n",
    "def solution(number):\n",
    "    if number < 2:\n",
    "        return number\n",
    " \n",
    "    number %= PISANO\n",
    " \n",
    "    results = [1, 1]\n",
    "    for _ in range(number):  # 2\n",
    "        results.append((results[-1] + results[-2]) % 10)  # 3\n",
    " \n",
    "    return (results[-1] - 1) % 10  # 4\n",
    "print (solution(number))"
   ]
  },
  {
   "cell_type": "code",
   "execution_count": null,
   "metadata": {},
   "outputs": [],
   "source": [
    "n = int (input())\n",
    "def fib(n):\n",
    "    a, b = 0, 1\n",
    "    r = 1\n",
    "    if n < 1:\n",
    "        return 0\n",
    "    for i in range(n - 1):\n",
    "        a, b = b, (a + b)%10\n",
    "        r += b\n",
    "        r %= 10\n",
    "    return r\n",
    "print (fib(n))"
   ]
  }
 ],
 "metadata": {
  "kernelspec": {
   "display_name": "Python 3",
   "language": "python",
   "name": "python3"
  },
  "language_info": {
   "codemirror_mode": {
    "name": "ipython",
    "version": 3
   },
   "file_extension": ".py",
   "mimetype": "text/x-python",
   "name": "python",
   "nbconvert_exporter": "python",
   "pygments_lexer": "ipython3",
   "version": "3.7.6"
  }
 },
 "nbformat": 4,
 "nbformat_minor": 4
}
