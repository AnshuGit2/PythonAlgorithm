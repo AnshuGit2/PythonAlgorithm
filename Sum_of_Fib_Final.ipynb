{
 "cells": [
  {
   "cell_type": "code",
   "execution_count": null,
   "metadata": {},
   "outputs": [],
   "source": [
    "# python3\n",
    "fibonacci_cache={}\n",
    "\n",
    "def fibonacci(n):\n",
    "    if n in fibonacci_cache:\n",
    "        return fibonacci_cache[n]\n",
    "    if n==0:\n",
    "        value=0\n",
    "    elif n ==1:\n",
    "        value=1\n",
    "    elif n ==2:\n",
    "        value=1\n",
    "    elif n> 2:\n",
    "        value =fibonacci(n-1)+ fibonacci(n-2)\n",
    "     \n",
    "    fibonacci_cache[n] = value\n",
    "    return value\n",
    "    \n",
    "n = int(input())\n",
    "print(fibonacci(n)-1)\n",
    "y= (fibonacci(n)-1)%10\n",
    "print(y)"
   ]
  },
  {
   "cell_type": "code",
   "execution_count": 37,
   "metadata": {},
   "outputs": [
    {
     "name": "stdout",
     "output_type": "stream",
     "text": [
      "100\n",
      "927372692193082081280\n",
      "0\n"
     ]
    }
   ],
   "source": [
    "# n = int(input())\n",
    "import math\n",
    "n = int(input())\n",
    "phi = (1+math.sqrt(5))/2\n",
    "\n",
    "t = round((pow(phi,(n+2))/math.sqrt(5)) - 1)\n",
    "\n",
    "y = t%10\n",
    "\n",
    "print(t)\n",
    "print(y)\n",
    "\n"
   ]
  },
  {
   "cell_type": "code",
   "execution_count": null,
   "metadata": {},
   "outputs": [],
   "source": [
    "\n",
    "int fib(int n) { \n",
    "  double phi = (1 + sqrt(5)) / 2; \n",
    "  return round(pow(phi, n) / sqrt(5)); \n",
    "} \n",
    "  \n",
    "// Driver Code \n",
    "int main () \n",
    "{ \n",
    "  int n = 9; \n",
    "  std::cout << fib(n) << std::endl; \n",
    "  return 0; \n",
    "} "
   ]
  },
  {
   "cell_type": "code",
   "execution_count": 13,
   "metadata": {},
   "outputs": [
    {
     "name": "stdout",
     "output_type": "stream",
     "text": [
      "5\n"
     ]
    }
   ],
   "source": [
    "def pisanoPeriod(m): \n",
    "    previous, current = 0, 1\n",
    "    for i in range(0, m * m): \n",
    "        previous, current = current, (previous + current) % m \n",
    "          \n",
    "        # A Pisano Period starts with 01 \n",
    "        if (previous == 0 and current == 1): \n",
    "            return i + 1\n",
    "  \n",
    "# Calculate Fn mod m  \n",
    "def fibonacciModulo(n, m): \n",
    "      \n",
    "    # Getting the period \n",
    "    pisano_period = pisanoPeriod(m) \n",
    "      \n",
    "    # Taking mod of N with  \n",
    "    # period length \n",
    "    n = n % pisano_period \n",
    "      \n",
    "    previous, current = 0, 1\n",
    "    if n==0: \n",
    "        return 0\n",
    "    elif n==1: \n",
    "        return 1\n",
    "    for i in range(n-1): \n",
    "        previous, current = current, previous + current \n",
    "          \n",
    "    return (current % m) \n",
    "  \n",
    "# Driver Code \n",
    "if __name__ == '__main__':  \n",
    "    n = 100\n",
    "    m = 10\n",
    "    print(fibonacciModulo(n, m)) "
   ]
  },
  {
   "cell_type": "code",
   "execution_count": 16,
   "metadata": {},
   "outputs": [
    {
     "name": "stdout",
     "output_type": "stream",
     "text": [
      "2\n",
      "1\n"
     ]
    }
   ],
   "source": [
    "# python3\n",
    "\n",
    "def pisanoPeriod(m): \n",
    "    previous, current = 0, 1\n",
    "    for i in range(0, m * m): \n",
    "        previous, current = current, (previous + current) % m \n",
    "          \n",
    "        # A Pisano Period starts with 01 \n",
    "        if (previous == 0 and current == 1): \n",
    "            return i + 1\n",
    "  \n",
    "# Calculate Fn mod m  \n",
    "def fibonacciModulo(n, m): \n",
    "      \n",
    "    # Getting the period \n",
    "    pisano_period = pisanoPeriod(m) \n",
    "      \n",
    "    # Taking mod of N with  \n",
    "    # period length \n",
    "    n = n % pisano_period \n",
    "      \n",
    "    previous, current = 0, 1\n",
    "    if n==0: \n",
    "        return 0\n",
    "    elif n==1: \n",
    "        return 1\n",
    "    for i in range(n-1): \n",
    "        previous, current = current, previous + current \n",
    "          \n",
    "    return (current % m) \n",
    "    \n",
    "\n",
    "if __name__ == '__main__':  \n",
    "    n = int(input())\n",
    "    m = 10\n",
    "    y = fibonacciModulo(n, m)\n",
    "    print(y) "
   ]
  },
  {
   "cell_type": "code",
   "execution_count": 37,
   "metadata": {},
   "outputs": [
    {
     "name": "stdout",
     "output_type": "stream",
     "text": [
      "0\n",
      "0\n"
     ]
    }
   ],
   "source": [
    "def pisanoPeriod(m): \n",
    "    previous, current = 0, 1\n",
    "    for i in range(0, m * m): \n",
    "        previous, current = current, (previous + current) % m \n",
    "          \n",
    "        # A Pisano Period starts with 01 \n",
    "        if (previous == 0 and current == 1): \n",
    "            return i + 1\n",
    "  \n",
    "# Calculate Fn mod m  \n",
    "def fibonacciModulo(n, m): \n",
    "      \n",
    "    # Getting the period \n",
    "    pisano_period = pisanoPeriod(m) \n",
    "      \n",
    "    # Taking mod of N with  \n",
    "    # period length \n",
    "    n = n % pisano_period \n",
    "      \n",
    "    previous, current = 0, 1\n",
    "    if n==0: \n",
    "        return 0\n",
    "    elif n==1: \n",
    "        return 0\n",
    "    for i in range(n-1): \n",
    "        previous, current = current, previous + current \n",
    "          \n",
    "    return ((current-1) % m) \n",
    "    \n",
    "\n",
    "if __name__ == '__main__':  \n",
    "    n = int(input())\n",
    "    m = 10\n",
    "    y = fibonacciModulo((n+2), m)\n",
    "    print(y) "
   ]
  },
  {
   "cell_type": "code",
   "execution_count": null,
   "metadata": {},
   "outputs": [],
   "source": []
  }
 ],
 "metadata": {
  "kernelspec": {
   "display_name": "Python 3",
   "language": "python",
   "name": "python3"
  },
  "language_info": {
   "codemirror_mode": {
    "name": "ipython",
    "version": 3
   },
   "file_extension": ".py",
   "mimetype": "text/x-python",
   "name": "python",
   "nbconvert_exporter": "python",
   "pygments_lexer": "ipython3",
   "version": "3.7.6"
  }
 },
 "nbformat": 4,
 "nbformat_minor": 4
}
