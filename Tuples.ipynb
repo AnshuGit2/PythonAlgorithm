{
 "cells": [
  {
   "cell_type": "code",
   "execution_count": 1,
   "metadata": {},
   "outputs": [
    {
     "name": "stdout",
     "output_type": "stream",
     "text": [
      "('Apple', 200)\n",
      "('google', 300)\n",
      "('MS', 400)\n"
     ]
    }
   ],
   "source": [
    "stock_price = [('Apple', 200), ('google', 300), ('MS', 400) ]\n",
    "for item in stock_price:\n",
    "    print (item)"
   ]
  },
  {
   "cell_type": "code",
   "execution_count": 2,
   "metadata": {},
   "outputs": [
    {
     "name": "stdout",
     "output_type": "stream",
     "text": [
      "Apple\n",
      "google\n",
      "MS\n"
     ]
    }
   ],
   "source": [
    "for ticker, price in stock_price:\n",
    "    print (ticker)"
   ]
  },
  {
   "cell_type": "code",
   "execution_count": 4,
   "metadata": {},
   "outputs": [
    {
     "name": "stdout",
     "output_type": "stream",
     "text": [
      "220.0\n",
      "330.0\n",
      "440.0\n"
     ]
    }
   ],
   "source": [
    "for ticker, price in stock_price:\n",
    "    print (price + (0.1*price))"
   ]
  },
  {
   "cell_type": "code",
   "execution_count": 21,
   "metadata": {},
   "outputs": [],
   "source": [
    "work_hours = [('Abby',100 ), ('Billy',3000), ('cassie',5000)]"
   ]
  },
  {
   "cell_type": "code",
   "execution_count": 22,
   "metadata": {},
   "outputs": [],
   "source": [
    "def emp_check(work_hours):\n",
    "    current_max = 0\n",
    "    emp_of_month = ''\n",
    "    \n",
    "    for emp,hours in work_hours:\n",
    "        if hours > current_max:\n",
    "          current_max = hours\n",
    "          emp_of_month = emp\n",
    "        else:\n",
    "            pass\n",
    "    return (emp_of_month,current_max)\n",
    "      \n",
    "           \n",
    "    "
   ]
  },
  {
   "cell_type": "code",
   "execution_count": 27,
   "metadata": {},
   "outputs": [],
   "source": [
    "result = emp_check(work_hours)"
   ]
  },
  {
   "cell_type": "code",
   "execution_count": 28,
   "metadata": {},
   "outputs": [
    {
     "data": {
      "text/plain": [
       "('cassie', 5000)"
      ]
     },
     "execution_count": 28,
     "metadata": {},
     "output_type": "execute_result"
    }
   ],
   "source": [
    "result"
   ]
  },
  {
   "cell_type": "code",
   "execution_count": null,
   "metadata": {},
   "outputs": [],
   "source": []
  }
 ],
 "metadata": {
  "kernelspec": {
   "display_name": "Python 3",
   "language": "python",
   "name": "python3"
  },
  "language_info": {
   "codemirror_mode": {
    "name": "ipython",
    "version": 3
   },
   "file_extension": ".py",
   "mimetype": "text/x-python",
   "name": "python",
   "nbconvert_exporter": "python",
   "pygments_lexer": "ipython3",
   "version": "3.7.6"
  }
 },
 "nbformat": 4,
 "nbformat_minor": 4
}
