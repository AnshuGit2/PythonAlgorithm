{
 "cells": [
  {
   "cell_type": "code",
   "execution_count": 11,
   "metadata": {},
   "outputs": [
    {
     "name": "stdout",
     "output_type": "stream",
     "text": [
      "[0.09105585 0.218508   0.74692907 0.88276403 0.95751756]\n"
     ]
    }
   ],
   "source": []
  },
  {
   "cell_type": "code",
   "execution_count": 12,
   "metadata": {},
   "outputs": [
    {
     "ename": "SyntaxError",
     "evalue": "invalid syntax (<ipython-input-12-9d13b90d0778>, line 16)",
     "output_type": "error",
     "traceback": [
      "\u001b[1;36m  File \u001b[1;32m\"<ipython-input-12-9d13b90d0778>\"\u001b[1;36m, line \u001b[1;32m16\u001b[0m\n\u001b[1;33m    elif pivot1 <= element < pivot2:\u001b[0m\n\u001b[1;37m       ^\u001b[0m\n\u001b[1;31mSyntaxError\u001b[0m\u001b[1;31m:\u001b[0m invalid syntax\n"
     ]
    }
   ],
   "source": [
    "def QuickSort2Pivot(list):\n",
    "    n = len(list)\n",
    "    if n <= 1:\n",
    "         return list\n",
    "    elif n == 2:\n",
    "             return sorted(list)\n",
    "            \n",
    "pivot1, pivot2 = sorted([list.pop(0), list.pop(0)])\n",
    "a = []\n",
    "b = []\n",
    "c = []\n",
    "\n",
    "for element in list:\n",
    "     if element < pivot1:\n",
    "            a.append(element)\n",
    "            elif pivot1 <= element < pivot2:\n",
    "                b.append(element)\n",
    "                else:\n",
    "                    c.append(element)\n",
    "                    return QuickSort2Pivot(a) + [pivot1] + QuickSort2Pivot(b) + [pivot2] + QuickSort2Pivot(c)\n"
   ]
  }
 ],
 "metadata": {
  "kernelspec": {
   "display_name": "Python 3",
   "language": "python",
   "name": "python3"
  },
  "language_info": {
   "codemirror_mode": {
    "name": "ipython",
    "version": 3
   },
   "file_extension": ".py",
   "mimetype": "text/x-python",
   "name": "python",
   "nbconvert_exporter": "python",
   "pygments_lexer": "ipython3",
   "version": "3.7.6"
  }
 },
 "nbformat": 4,
 "nbformat_minor": 4
}
