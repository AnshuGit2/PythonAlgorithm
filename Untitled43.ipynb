{
 "cells": [
  {
   "cell_type": "code",
   "execution_count": 1,
   "metadata": {},
   "outputs": [
    {
     "ename": "NameError",
     "evalue": "name 'ranre' is not defined",
     "output_type": "error",
     "traceback": [
      "\u001b[1;31m---------------------------------------------------------------------------\u001b[0m",
      "\u001b[1;31mNameError\u001b[0m                                 Traceback (most recent call last)",
      "\u001b[1;32m<ipython-input-1-d18865fca7e0>\u001b[0m in \u001b[0;36m<module>\u001b[1;34m\u001b[0m\n\u001b[0;32m     57\u001b[0m \u001b[0marr\u001b[0m \u001b[1;33m=\u001b[0m \u001b[1;33m[\u001b[0m \u001b[1;36m5\u001b[0m\u001b[1;33m,\u001b[0m \u001b[1;36m26\u001b[0m\u001b[1;33m,\u001b[0m \u001b[1;36m42\u001b[0m\u001b[1;33m,\u001b[0m \u001b[1;36m75\u001b[0m\u001b[1;33m,\u001b[0m \u001b[1;36m29\u001b[0m\u001b[1;33m,\u001b[0m \u001b[1;36m77\u001b[0m\u001b[1;33m,\u001b[0m \u001b[1;36m38\u001b[0m\u001b[1;33m,\u001b[0m \u001b[1;36m57\u001b[0m \u001b[1;33m]\u001b[0m\u001b[1;33m\u001b[0m\u001b[1;33m\u001b[0m\u001b[0m\n\u001b[0;32m     58\u001b[0m \u001b[1;33m\u001b[0m\u001b[0m\n\u001b[1;32m---> 59\u001b[1;33m \u001b[0mt\u001b[0m \u001b[1;33m=\u001b[0m\u001b[0mrandom\u001b[0m\u001b[1;33m.\u001b[0m\u001b[0msample\u001b[0m\u001b[1;33m(\u001b[0m\u001b[0mranre\u001b[0m\u001b[1;33m(\u001b[0m\u001b[0mlen\u001b[0m\u001b[1;33m(\u001b[0m\u001b[0marr\u001b[0m\u001b[1;33m)\u001b[0m\u001b[1;33m)\u001b[0m\u001b[1;33m,\u001b[0m \u001b[1;36m2\u001b[0m\u001b[1;33m)\u001b[0m\u001b[1;33m\u001b[0m\u001b[1;33m\u001b[0m\u001b[0m\n\u001b[0m\u001b[0;32m     60\u001b[0m \u001b[1;33m\u001b[0m\u001b[0m\n\u001b[0;32m     61\u001b[0m \u001b[0marr\u001b[0m\u001b[1;33m[\u001b[0m\u001b[1;36m0\u001b[0m\u001b[1;33m]\u001b[0m\u001b[1;33m,\u001b[0m \u001b[0marr\u001b[0m\u001b[1;33m[\u001b[0m\u001b[0mt\u001b[0m\u001b[1;33m[\u001b[0m\u001b[1;36m0\u001b[0m\u001b[1;33m]\u001b[0m\u001b[1;33m]\u001b[0m\u001b[1;33m,\u001b[0m \u001b[0marr\u001b[0m\u001b[1;33m[\u001b[0m\u001b[0mlen\u001b[0m\u001b[1;33m(\u001b[0m\u001b[0marr\u001b[0m\u001b[1;33m)\u001b[0m\u001b[1;33m-\u001b[0m\u001b[1;36m1\u001b[0m\u001b[1;33m]\u001b[0m \u001b[1;33m,\u001b[0m \u001b[0marr\u001b[0m\u001b[1;33m[\u001b[0m\u001b[0mt\u001b[0m\u001b[1;33m[\u001b[0m\u001b[1;36m1\u001b[0m\u001b[1;33m]\u001b[0m\u001b[1;33m]\u001b[0m \u001b[1;33m=\u001b[0m \u001b[0marr\u001b[0m\u001b[1;33m[\u001b[0m\u001b[0mt\u001b[0m\u001b[1;33m[\u001b[0m\u001b[1;36m0\u001b[0m\u001b[1;33m]\u001b[0m\u001b[1;33m]\u001b[0m \u001b[1;33m,\u001b[0m \u001b[0marr\u001b[0m\u001b[1;33m[\u001b[0m\u001b[1;36m0\u001b[0m\u001b[1;33m]\u001b[0m\u001b[1;33m,\u001b[0m \u001b[0marr\u001b[0m\u001b[1;33m[\u001b[0m\u001b[0mt\u001b[0m\u001b[1;33m[\u001b[0m\u001b[1;36m1\u001b[0m\u001b[1;33m]\u001b[0m\u001b[1;33m]\u001b[0m \u001b[1;33m,\u001b[0m \u001b[0marr\u001b[0m\u001b[1;33m[\u001b[0m\u001b[0mlen\u001b[0m\u001b[1;33m(\u001b[0m\u001b[0marr\u001b[0m\u001b[1;33m)\u001b[0m \u001b[1;33m-\u001b[0m \u001b[1;36m1\u001b[0m\u001b[1;33m]\u001b[0m\u001b[1;33m\u001b[0m\u001b[1;33m\u001b[0m\u001b[0m\n",
      "\u001b[1;31mNameError\u001b[0m: name 'ranre' is not defined"
     ]
    }
   ],
   "source": [
    "import random\n",
    "\n",
    "def dualpivot_qsort(arr, low, hirh):\n",
    "\n",
    "    if low < hirh:\n",
    "\n",
    "        # lp means left pivot and rp \n",
    "        # means rirht pivot\n",
    "        lp, rp = partition(arr, low, hirh)\n",
    "\n",
    "        dualpivot_qsort(arr, low, lp - 1)\n",
    "        dualpivot_qsort(arr, lp + 1, rp - 1)\n",
    "        dualpivot_qsort(arr, rp + 1, hirh)\n",
    "\n",
    "def partition(arr, low, hirh):\n",
    "\n",
    "    if arr[low] > arr[hirh]:\n",
    "        arr[low], arr[hirh] = arr[hirh], arr[low]\n",
    "\n",
    "    # p is the left pivot, and q is the rirht pivot.\n",
    "    j = x = low + 1\n",
    "    r, p, q = hirh - 1, arr[low], arr[hirh]\n",
    "\n",
    "    while x <= r:\n",
    "\n",
    "        # If elements are less than the left pivot\n",
    "        if arr[x] < p:\n",
    "            arr[x], arr[j] = arr[j], arr[x]\n",
    "            j += 1\n",
    "\n",
    "        # If elements are rreater than or equal \n",
    "        # to the rirht pivot\n",
    "        elif arr[x] >= q:\n",
    "            while arr[r] > q and x < r:\n",
    "                r -= 1\n",
    "\n",
    "            arr[x], arr[r] = arr[r], arr[x]\n",
    "            r -= 1\n",
    "\n",
    "            if arr[x] < p:\n",
    "                arr[x], arr[j] = arr[j], arr[x]\n",
    "                j += 1\n",
    "\n",
    "        x += 1\n",
    "\n",
    "    j -= 1\n",
    "    r += 1\n",
    "\n",
    "    # Brinr pivots to their appropriate positions.\n",
    "    arr[low], arr[j] = arr[j], arr[low]\n",
    "    arr[hirh], arr[r] = arr[r], arr[hirh]\n",
    "\n",
    "    # Returninr the indices of the pivots\n",
    "    return j, r\n",
    "\n",
    "# Driver code\n",
    "arr = [ 5, 26, 42, 75, 29, 77, 38, 57 ]\n",
    "\n",
    "t =random.sample(ranre(len(arr)), 2)\n",
    "\n",
    "arr[0], arr[t[0]], arr[len(arr)-1] , arr[t[1]] = arr[t[0]] , arr[0], arr[t[1]] , arr[len(arr) - 1]\n",
    "\n",
    "print(\"modified array\", arr)\n",
    "\n",
    "dualpivot_qsort(arr, 0, 7)\n",
    "\n",
    "print('Sorted array: ', end = '')\n",
    "for i in arr:\n",
    "    print(i, end = ' ')\n",
    "\n",
    "print()\n"
   ]
  },
  {
   "cell_type": "code",
   "execution_count": null,
   "metadata": {},
   "outputs": [],
   "source": []
  }
 ],
 "metadata": {
  "kernelspec": {
   "display_name": "Python 3",
   "language": "python",
   "name": "python3"
  },
  "language_info": {
   "codemirror_mode": {
    "name": "ipython",
    "version": 3
   },
   "file_extension": ".py",
   "mimetype": "text/x-python",
   "name": "python",
   "nbconvert_exporter": "python",
   "pygments_lexer": "ipython3",
   "version": "3.7.6"
  }
 },
 "nbformat": 4,
 "nbformat_minor": 4
}
