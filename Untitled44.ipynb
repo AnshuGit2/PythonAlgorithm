{
 "cells": [
  {
   "cell_type": "code",
   "execution_count": 2,
   "metadata": {},
   "outputs": [
    {
     "ename": "TypeError",
     "evalue": "cannot unpack non-iterable int object",
     "output_type": "error",
     "traceback": [
      "\u001b[1;31m---------------------------------------------------------------------------\u001b[0m",
      "\u001b[1;31mTypeError\u001b[0m                                 Traceback (most recent call last)",
      "\u001b[1;32m<ipython-input-2-6d79d78d9471>\u001b[0m in \u001b[0;36m<module>\u001b[1;34m\u001b[0m\n\u001b[0;32m     35\u001b[0m \u001b[1;33m\u001b[0m\u001b[0m\n\u001b[0;32m     36\u001b[0m \u001b[0marr\u001b[0m \u001b[1;33m=\u001b[0m \u001b[1;33m[\u001b[0m \u001b[1;36m19\u001b[0m\u001b[1;33m,\u001b[0m\u001b[1;36m3\u001b[0m\u001b[1;33m,\u001b[0m\u001b[1;36m2\u001b[0m\u001b[1;33m,\u001b[0m\u001b[1;36m6\u001b[0m\u001b[1;33m,\u001b[0m\u001b[1;36m5\u001b[0m\u001b[1;33m,\u001b[0m\u001b[1;36m4\u001b[0m\u001b[1;33m,\u001b[0m\u001b[1;36m7\u001b[0m\u001b[1;33m,\u001b[0m\u001b[1;36m1\u001b[0m \u001b[1;33m]\u001b[0m\u001b[1;33m\u001b[0m\u001b[1;33m\u001b[0m\u001b[0m\n\u001b[1;32m---> 37\u001b[1;33m \u001b[0mdualPivotQuickSort\u001b[0m\u001b[1;33m(\u001b[0m\u001b[0marr\u001b[0m\u001b[1;33m,\u001b[0m \u001b[1;36m0\u001b[0m\u001b[1;33m,\u001b[0m \u001b[1;36m7\u001b[0m\u001b[1;33m)\u001b[0m\u001b[1;33m\u001b[0m\u001b[1;33m\u001b[0m\u001b[0m\n\u001b[0m\u001b[0;32m     38\u001b[0m \u001b[1;33m\u001b[0m\u001b[0m\n\u001b[0;32m     39\u001b[0m \u001b[0mprint\u001b[0m\u001b[1;33m(\u001b[0m\u001b[1;34m'Sorted array: '\u001b[0m\u001b[1;33m,\u001b[0m \u001b[0mend\u001b[0m \u001b[1;33m=\u001b[0m \u001b[1;34m''\u001b[0m\u001b[1;33m)\u001b[0m\u001b[1;33m\u001b[0m\u001b[1;33m\u001b[0m\u001b[0m\n",
      "\u001b[1;32m<ipython-input-2-6d79d78d9471>\u001b[0m in \u001b[0;36mdualPivotQuickSort\u001b[1;34m(A, left, right)\u001b[0m\n\u001b[0;32m      1\u001b[0m \u001b[1;32mdef\u001b[0m \u001b[0mdualPivotQuickSort\u001b[0m\u001b[1;33m(\u001b[0m\u001b[0mA\u001b[0m\u001b[1;33m,\u001b[0m \u001b[0mleft\u001b[0m \u001b[1;33m,\u001b[0m \u001b[0mright\u001b[0m\u001b[1;33m)\u001b[0m\u001b[1;33m:\u001b[0m\u001b[1;33m\u001b[0m\u001b[1;33m\u001b[0m\u001b[0m\n\u001b[1;32m----> 2\u001b[1;33m     \u001b[0mp\u001b[0m \u001b[1;33m=\u001b[0m \u001b[0mA\u001b[0m\u001b[1;33m[\u001b[0m\u001b[0mleft\u001b[0m\u001b[1;33m]\u001b[0m\u001b[1;33m,\u001b[0m \u001b[0mq\u001b[0m \u001b[1;33m=\u001b[0m \u001b[0mA\u001b[0m\u001b[1;33m[\u001b[0m\u001b[0mright\u001b[0m\u001b[1;33m]\u001b[0m\u001b[1;33m\u001b[0m\u001b[1;33m\u001b[0m\u001b[0m\n\u001b[0m\u001b[0;32m      3\u001b[0m \u001b[1;33m\u001b[0m\u001b[0m\n\u001b[0;32m      4\u001b[0m     \u001b[0ml\u001b[0m \u001b[1;33m=\u001b[0m \u001b[0mleft\u001b[0m \u001b[1;33m+\u001b[0m \u001b[1;36m1\u001b[0m\u001b[1;33m,\u001b[0m\u001b[1;33m\u001b[0m\u001b[1;33m\u001b[0m\u001b[0m\n\u001b[0;32m      5\u001b[0m     \u001b[0mk\u001b[0m \u001b[1;33m=\u001b[0m \u001b[0ml\u001b[0m\u001b[1;33m\u001b[0m\u001b[1;33m\u001b[0m\u001b[0m\n",
      "\u001b[1;31mTypeError\u001b[0m: cannot unpack non-iterable int object"
     ]
    }
   ],
   "source": [
    "def dualPivotQuickSort(A, left , right):\n",
    "    p = A[left], q = A[right]\n",
    "    \n",
    "    l = left + 1,\n",
    "    k = l \n",
    "    g = right - 1\n",
    "    \n",
    "    while k < g:\n",
    "        if A[k] < p:\n",
    "            swap1 = A[k] and A[l]\n",
    "            l= l + 1\n",
    "        else:\n",
    "            if A [k] > q:\n",
    "                if A[k] > q:\n",
    "                    while A[g] > q and k < g:\n",
    "                        g = g - 1\n",
    "                    print (g)\n",
    "                    swap =  A[k] and A[g]\n",
    "                    g = g - 1\n",
    "                    \n",
    "        if A[k] < p:\n",
    "            swap = A[k] and A[l]\n",
    "            l = l + 1\n",
    "            k = k + 1\n",
    "        print (k)\n",
    "        l = l - 1 \n",
    "        g = g + 1;\n",
    "    \n",
    "    \n",
    "    swap = A[left] and A[l]\n",
    "    swap = A[right] and A[g]\n",
    "    QuicksortYaro(A, left , l - 1)\n",
    "    QuicksortYaro(A, l + 1, g - 1)\n",
    "    QuicksortYaro(A, g + 1 , right)\n",
    "\n",
    "arr = [ 19,3,2,6,5,4,7,1 ] \n",
    "dualPivotQuickSort(arr, 0, 7) \n",
    "  \n",
    "print('Sorted array: ', end = '') \n",
    "for i in arr: \n",
    "    print(i, end = ' ') \n",
    "      \n",
    "print() \n"
   ]
  },
  {
   "cell_type": "code",
   "execution_count": 2,
   "metadata": {},
   "outputs": [
    {
     "name": "stdout",
     "output_type": "stream",
     "text": [
      "Sorted array: 24 38 42 57 29 75 77 80 \n"
     ]
    }
   ],
   "source": [
    "def dualpivot_quickort(array, start, end):\n",
    "    if end <= start:\n",
    "        return\n",
    "    p = start\n",
    "    r = end\n",
    "    x = p+1\n",
    "    h = x\n",
    "    l = r-1\n",
    "    if array[p] > array[r]:\n",
    "        array[p], array[r] = array[r], array[p]\n",
    "    while x < end:\n",
    "        if array[x] < array[p]:\n",
    "            array[h], array[x] = array[x], array[h]\n",
    "            h += 1\n",
    "        elif array[x] > array[r]:\n",
    "            array[x], array[l] = array[l], array[x]\n",
    "            l -= 1\n",
    "        x += 1\n",
    "    h -= 1\n",
    "    l += 1\n",
    "    array[p], array[h] = array[h], array[p]\n",
    "    array[r], array[l] = array[l], array[r]\n",
    "    dualpivot_quickort(array, start, h-1)\n",
    "    dualpivot_quickort(array, h+1, l-1)\n",
    "    dualpivot_quickort(array, l+1, end)\n",
    "    \n",
    "arr = [ 24, 80, 42, 75, 29, 77, 38, 57 ] \n",
    "dualpivot_quickort(arr, 0, 7) \n",
    "  \n",
    "print('Sorted array: ', end = '') \n",
    "for i in arr: \n",
    "    print(i, end = ' ') \n",
    "      \n",
    "print() \n",
    "    \n"
   ]
  },
  {
   "cell_type": "code",
   "execution_count": null,
   "metadata": {},
   "outputs": [],
   "source": []
  }
 ],
 "metadata": {
  "kernelspec": {
   "display_name": "Python 3",
   "language": "python",
   "name": "python3"
  },
  "language_info": {
   "codemirror_mode": {
    "name": "ipython",
    "version": 3
   },
   "file_extension": ".py",
   "mimetype": "text/x-python",
   "name": "python",
   "nbconvert_exporter": "python",
   "pygments_lexer": "ipython3",
   "version": "3.7.6"
  }
 },
 "nbformat": 4,
 "nbformat_minor": 4
}
