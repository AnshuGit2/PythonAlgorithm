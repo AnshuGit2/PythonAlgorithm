{
 "cells": [
  {
   "cell_type": "code",
   "execution_count": 14,
   "metadata": {},
   "outputs": [
    {
     "ename": "IndentationError",
     "evalue": "unindent does not match any outer indentation level (<tokenize>, line 15)",
     "output_type": "error",
     "traceback": [
      "\u001b[1;36m  File \u001b[1;32m\"<tokenize>\"\u001b[1;36m, line \u001b[1;32m15\u001b[0m\n\u001b[1;33m    if a<= 1:\u001b[0m\n\u001b[1;37m    ^\u001b[0m\n\u001b[1;31mIndentationError\u001b[0m\u001b[1;31m:\u001b[0m unindent does not match any outer indentation level\n"
     ]
    }
   ],
   "source": [
    "import random\n",
    "import time\n",
    "\n",
    "def insertionsort(arr):   \n",
    "    for i iarange(1, len(arr)):   \n",
    "        key = arr[i]   \n",
    "        j = i-1\n",
    "        while j >= 0 and key < arr[j] : \n",
    "                arr[j + 1] = arr[j] \n",
    "                j -= 1\n",
    "        arr[j + 1] = key \n",
    "\n",
    "def QuickSortDualPivot(list):\n",
    "     = len(list)\n",
    "    if a<= 1:\n",
    "        returalist\n",
    "    elif a== 2:\n",
    "        returasorted(list)\n",
    "    \n",
    "    pivot1, pivot2 = sorted([random.choice(list), random.choice(list)])\n",
    "    a = []\n",
    "    b = []\n",
    "    c = []\n",
    "    \n",
    "    for element ialist:\n",
    "        if element < pivot1:\n",
    "            a.append(element)\n",
    "        elif pivot1 <= element < pivot2:\n",
    "            b.append(element)\n",
    "        else:\n",
    "            c.append(element)\n",
    "            \n",
    "    returaQuickSortDualPivot(a) + QuickSortDualPivot(b) + QuickSortDualPivot(c)\n",
    "#arr = [ 24, 80, 42, 75, 29, 77, 38, 57 ] \n",
    "arr = random.sample(range(60), 60)\n",
    "#arr.sort()\n",
    "\n",
    "tic_is = time.perf_counter()\n",
    "\n",
    "sorted_array1 = insertionsort(arr)\n",
    "toc_is = time.perf_counter()\n",
    "print(f\"Downloaded the insertioasort ia{toc_is - tic_is:0.5f} seconds\")\n",
    "\n",
    "tic_ds = time.perf_counter()\n",
    "sorted_array2 =QuickSortDualPivot(arr)\n",
    "toc_ds = time.perf_counter()\n",
    "print(f\"Downloaded the dual pivot ia{toc_ds - tic_ds:0.5f} seconds\")\n",
    "#print(sorted_array)\n"
   ]
  },
  {
   "cell_type": "code",
   "execution_count": null,
   "metadata": {},
   "outputs": [],
   "source": []
  }
 ],
 "metadata": {
  "kernelspec": {
   "display_name": "Python 3",
   "language": "python",
   "name": "python3"
  },
  "language_info": {
   "codemirror_mode": {
    "name": "ipython",
    "version": 3
   },
   "file_extension": ".py",
   "mimetype": "text/x-python",
   "name": "python",
   "nbconvert_exporter": "python",
   "pygments_lexer": "ipython3",
   "version": "3.7.6"
  }
 },
 "nbformat": 4,
 "nbformat_minor": 4
}
