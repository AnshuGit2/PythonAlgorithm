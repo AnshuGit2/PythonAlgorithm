{
 "cells": [
  {
   "cell_type": "code",
   "execution_count": 7,
   "metadata": {},
   "outputs": [],
   "source": [
    "def myfunc(a,b,c= 0,d=0,e =0):\n",
    "# Return 5% of the sum of a and b \n",
    "    return sum ((a,b,c,d,e)) * 0.05"
   ]
  },
  {
   "cell_type": "code",
   "execution_count": 9,
   "metadata": {},
   "outputs": [
    {
     "data": {
      "text/plain": [
       "10.0"
      ]
     },
     "execution_count": 9,
     "metadata": {},
     "output_type": "execute_result"
    }
   ],
   "source": [
    "myfunc (40,60,100)"
   ]
  },
  {
   "cell_type": "code",
   "execution_count": 28,
   "metadata": {},
   "outputs": [],
   "source": [
    "# so thats why we use *args to pass as many as arguments want to pass\n",
    "\n",
    "def myfunc1(*args):\n",
    "    return sum (args)"
   ]
  },
  {
   "cell_type": "code",
   "execution_count": 29,
   "metadata": {},
   "outputs": [
    {
     "data": {
      "text/plain": [
       "70"
      ]
     },
     "execution_count": 29,
     "metadata": {},
     "output_type": "execute_result"
    }
   ],
   "source": [
    "myfunc1(10,20,20,10,5,5)  # Tuples"
   ]
  },
  {
   "cell_type": "code",
   "execution_count": 32,
   "metadata": {},
   "outputs": [],
   "source": [
    "def myfunc2(*argv):   # geek for geek\n",
    "    for arg in argv:\n",
    "        print (arg)  # print"
   ]
  },
  {
   "cell_type": "code",
   "execution_count": 23,
   "metadata": {},
   "outputs": [
    {
     "name": "stdout",
     "output_type": "stream",
     "text": [
      "hello\n",
      "welcome\n",
      "to\n",
      "python\n",
      "world\n"
     ]
    }
   ],
   "source": [
    "myfunc2('hello', 'welcome', 'to', 'python','world') # tuples"
   ]
  },
  {
   "cell_type": "code",
   "execution_count": 38,
   "metadata": {},
   "outputs": [],
   "source": [
    "def myfunc4(*argv):   # geek for geek\n",
    "    for arg in argv:\n",
    "        return (arg)  # return"
   ]
  },
  {
   "cell_type": "code",
   "execution_count": 39,
   "metadata": {},
   "outputs": [
    {
     "data": {
      "text/plain": [
       "'hello'"
      ]
     },
     "execution_count": 39,
     "metadata": {},
     "output_type": "execute_result"
    }
   ],
   "source": [
    "myfunc4('hello', 'welcome', 'to', 'python','world')"
   ]
  },
  {
   "cell_type": "code",
   "execution_count": 30,
   "metadata": {},
   "outputs": [],
   "source": [
    "def myfunc3(*args):\n",
    "    return (args)"
   ]
  },
  {
   "cell_type": "code",
   "execution_count": 40,
   "metadata": {},
   "outputs": [
    {
     "data": {
      "text/plain": [
       "(20, 30, 40, 50, 60)"
      ]
     },
     "execution_count": 40,
     "metadata": {},
     "output_type": "execute_result"
    }
   ],
   "source": [
    "myfunc3(20,30,40,50,60)"
   ]
  },
  {
   "cell_type": "code",
   "execution_count": 45,
   "metadata": {},
   "outputs": [],
   "source": [
    "def myfunc5(**kwargs):\n",
    "    print (kwargs)   # to print the dictionary \n",
    "    if 'fruit' in kwargs:\n",
    "        print ('My fruit of choice is {}'.format(kwargs['fruit'])) # {} must\n",
    "    else:\n",
    "        print ('I did not find any fruit here')\n",
    "        "
   ]
  },
  {
   "cell_type": "code",
   "execution_count": 47,
   "metadata": {},
   "outputs": [
    {
     "name": "stdout",
     "output_type": "stream",
     "text": [
      "{'fruit': 'apple', 'veggie': 'lettus'}\n",
      "My fruit of choice is apple\n"
     ]
    }
   ],
   "source": [
    "myfunc5(fruit = 'apple', veggie = 'lettus')\n"
   ]
  },
  {
   "cell_type": "code",
   "execution_count": 50,
   "metadata": {},
   "outputs": [],
   "source": [
    "def myfunc6(*args,**kwargs):\n",
    "    print (args) # it will print number\n",
    "    print(kwargs) # it will print dictionary\n",
    "    print ('I would like {}{}'.format (args[0],kwargs['food'])) # it will print food 'egg'\n",
    "    \n"
   ]
  },
  {
   "cell_type": "code",
   "execution_count": 52,
   "metadata": {},
   "outputs": [
    {
     "name": "stdout",
     "output_type": "stream",
     "text": [
      "(10, 20, 30)\n",
      "{'fruit': 'orange', 'food': ' egg', 'animal': 'dog'}\n",
      "I would like 10 egg\n"
     ]
    }
   ],
   "source": [
    "myfunc6(10,20,30, fruit = 'orange', food = ' egg', animal = 'dog' )"
   ]
  },
  {
   "cell_type": "code",
   "execution_count": 56,
   "metadata": {},
   "outputs": [],
   "source": [
    "def myfunc7(*args):\n",
    "    return len(args) # it will return the length \n",
    "\n",
    "def myfunc8(*args): # it will return the sum of all argunebts.\n",
    "    return sum(args)  \n"
   ]
  },
  {
   "cell_type": "code",
   "execution_count": 58,
   "metadata": {},
   "outputs": [
    {
     "data": {
      "text/plain": [
       "20"
      ]
     },
     "execution_count": 58,
     "metadata": {},
     "output_type": "execute_result"
    }
   ],
   "source": [
    "myfunc8(2,3,4,5,6)"
   ]
  },
  {
   "cell_type": "code",
   "execution_count": 65,
   "metadata": {},
   "outputs": [],
   "source": [
    "def myfunc8(*args):   # it will return even number only from list.\n",
    "    list = []\n",
    "    for num in args:\n",
    "        if num % 2 == 0:\n",
    "            list.append(num)\n",
    "    return list\n",
    "\n",
    "    "
   ]
  },
  {
   "cell_type": "code",
   "execution_count": 69,
   "metadata": {},
   "outputs": [
    {
     "data": {
      "text/plain": [
       "[2, 4, 6, 8, 10, -2]"
      ]
     },
     "execution_count": 69,
     "metadata": {},
     "output_type": "execute_result"
    }
   ],
   "source": [
    "myfunc8(1,2,3,4,5,6,7,8,9,10,-2)"
   ]
  },
  {
   "cell_type": "code",
   "execution_count": 83,
   "metadata": {},
   "outputs": [],
   "source": [
    "def myfunc9(*args):\n",
    "    return ([x for x in args if x % 2 == 0])  # same as down \n",
    "   \n",
    "    # return [args[i] for i in range (len(args))if i % 2 ==0 ]"
   ]
  },
  {
   "cell_type": "code",
   "execution_count": 86,
   "metadata": {},
   "outputs": [
    {
     "data": {
      "text/plain": [
       "[2, 4, -2]"
      ]
     },
     "execution_count": 86,
     "metadata": {},
     "output_type": "execute_result"
    }
   ],
   "source": [
    "myfunc9(2,3,4,5,-2)"
   ]
  },
  {
   "cell_type": "code",
   "execution_count": 94,
   "metadata": {},
   "outputs": [],
   "source": [
    "def myfunc10(x):            # converting odd string into  \n",
    "    out = []\n",
    "    for i in range (len (x)):\n",
    "        if i%2==0:\n",
    "            out.append(x[i].lower())\n",
    "        else:\n",
    "            out.append(x[i].upper())\n",
    "    return''.join(out)"
   ]
  },
  {
   "cell_type": "code",
   "execution_count": 95,
   "metadata": {},
   "outputs": [
    {
     "data": {
      "text/plain": [
       "'aBcDeFgHiJkLmO'"
      ]
     },
     "execution_count": 95,
     "metadata": {},
     "output_type": "execute_result"
    }
   ],
   "source": [
    "myfunc10('abcdefghijklmo')"
   ]
  },
  {
   "cell_type": "code",
   "execution_count": null,
   "metadata": {},
   "outputs": [],
   "source": []
  }
 ],
 "metadata": {
  "kernelspec": {
   "display_name": "Python 3",
   "language": "python",
   "name": "python3"
  },
  "language_info": {
   "codemirror_mode": {
    "name": "ipython",
    "version": 3
   },
   "file_extension": ".py",
   "mimetype": "text/x-python",
   "name": "python",
   "nbconvert_exporter": "python",
   "pygments_lexer": "ipython3",
   "version": "3.7.6"
  }
 },
 "nbformat": 4,
 "nbformat_minor": 4
}
