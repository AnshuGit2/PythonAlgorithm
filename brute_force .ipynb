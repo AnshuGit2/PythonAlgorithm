{
 "cells": [
  {
   "cell_type": "code",
   "execution_count": 1,
   "metadata": {},
   "outputs": [],
   "source": [
    "data = [1,2,3,-9,7,5,-99,2,8] # should be 12 "
   ]
  },
  {
   "cell_type": "code",
   "execution_count": 6,
   "metadata": {},
   "outputs": [],
   "source": [
    "def max_subarr_brute(input_array):\n",
    "    for x in range (len(data)+1):\n",
    "        for j in range (len(data)+1):\n",
    "            print (data[x:j])  # it will print all length array"
   ]
  },
  {
   "cell_type": "code",
   "execution_count": 11,
   "metadata": {},
   "outputs": [],
   "source": [
    "#max_subarr_brute(data)"
   ]
  },
  {
   "cell_type": "code",
   "execution_count": 13,
   "metadata": {},
   "outputs": [],
   "source": [
    "def max_subarr_brute(input_array):\n",
    "    for x in range (len(data)+1):\n",
    "        for j in range (len(data)+1):\n",
    "            if data[x:j]: # it will clean up little bit in output\n",
    "                print (data[x:j])"
   ]
  },
  {
   "cell_type": "code",
   "execution_count": 15,
   "metadata": {},
   "outputs": [],
   "source": [
    "#max_subarr_brute(data)"
   ]
  },
  {
   "cell_type": "code",
   "execution_count": 25,
   "metadata": {},
   "outputs": [],
   "source": [
    "def max_subarr_brute(input_array):\n",
    "    global_max = 0\n",
    "    for x in range (len(data)+1):\n",
    "        for j in range (len(data)+1):\n",
    "            if data[x:j]: # it will clean up little bit in output\n",
    "                    current_max = sum (data[x:j])\n",
    "                    #print (current_max)\n",
    "                    if current_max >global_max:\n",
    "                        global_max = current_max\n",
    "    return global_max\n"
   ]
  },
  {
   "cell_type": "code",
   "execution_count": 26,
   "metadata": {},
   "outputs": [
    {
     "data": {
      "text/plain": [
       "12"
      ]
     },
     "execution_count": 26,
     "metadata": {},
     "output_type": "execute_result"
    }
   ],
   "source": [
    "max_subarr_brute(data)"
   ]
  }
 ],
 "metadata": {
  "kernelspec": {
   "display_name": "Python 3",
   "language": "python",
   "name": "python3"
  },
  "language_info": {
   "codemirror_mode": {
    "name": "ipython",
    "version": 3
   },
   "file_extension": ".py",
   "mimetype": "text/x-python",
   "name": "python",
   "nbconvert_exporter": "python",
   "pygments_lexer": "ipython3",
   "version": "3.7.6"
  }
 },
 "nbformat": 4,
 "nbformat_minor": 4
}
