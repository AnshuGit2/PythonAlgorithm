{
 "cells": [
  {
   "cell_type": "code",
   "execution_count": 32,
   "metadata": {},
   "outputs": [],
   "source": [
    "import random\n",
    "\n",
    "def dice(number_of_dice):\n",
    "    dice_sum = 0\n",
    "    for i in range(0,number_of_dice):\n",
    "        dice_sum += random.randint(1,6)\n",
    "    return dice_sum"
   ]
  },
  {
   "cell_type": "code",
   "execution_count": 33,
   "metadata": {},
   "outputs": [
    {
     "name": "stdout",
     "output_type": "stream",
     "text": [
      "3.415\n"
     ]
    }
   ],
   "source": [
    "y = dice()\n",
    "print(y)"
   ]
  },
  {
   "cell_type": "code",
   "execution_count": 25,
   "metadata": {},
   "outputs": [
    {
     "data": {
      "text/plain": [
       "<matplotlib.axes._subplots.AxesSubplot at 0x1b7a02f3a48>"
      ]
     },
     "execution_count": 25,
     "metadata": {},
     "output_type": "execute_result"
    },
    {
     "data": {
      "image/png": "[encoded data removed]",
      "text/plain": [
       "<Figure size 864x288 with 2 Axes>"
      ]
     },
     "metadata": {
      "needs_background": "light"
     },
     "output_type": "display_data"
    }
   ],
   "source": [
    "# this code will display graph\n",
    "\n",
    "\n",
    "import matplotlib.pyplot as plt\n",
    "import seaborn as sns\n",
    "import numpy as np\n",
    "plt.style.use('ggplot')\n",
    "%matplotlib inline\n",
    "np.random.seed(1738)\n",
    "d1 = np.array([1, 2, 3, 4, 5, 6])\n",
    "d2 = np.array([1, 2, 3, 4, 5, 6])\n",
    "dice_1 = []\n",
    "dice_2 = []\n",
    "sums = []\n",
    "for _ in range(500):\n",
    "  roll_1 = np.random.choice(d1)\n",
    "  roll_2 = np.random.choice(d2)\n",
    "  dice_1.append(roll_1)\n",
    "  dice_2.append(roll_2)\n",
    "  sums.append(roll_1 + roll_2)\n",
    "fig, (ax1, ax2) = plt.subplots(ncols=2, sharey=True, figsize=(12,4))\n",
    "sns.countplot(dice_1, ax=ax1)\n",
    "sns.countplot(dice_2, ax=ax2)"
   ]
  },
  {
   "cell_type": "code",
   "execution_count": 24,
   "metadata": {},
   "outputs": [],
   "source": [
    "import random              # module instance\n",
    "\n",
    "def dice(numberofdice):   # calling function    \n",
    "    \n",
    "    dice_sum = 0.00\n",
    "    \n",
    "    for i in range(0,100): #loop will run 0 to 9 times\n",
    "        for j in range(0, numberofdice):\n",
    "            dice_sum += random.randint(1,6) # Gnenerates a random number  \n",
    "                                            # between 1 and 6 (including both 1 and 6) \n",
    "    p = dice_sum/100\n",
    "        \n",
    "    return p"
   ]
  },
  {
   "cell_type": "code",
   "execution_count": 25,
   "metadata": {},
   "outputs": [
    {
     "name": "stdout",
     "output_type": "stream",
     "text": [
      "7.03\n"
     ]
    }
   ],
   "source": [
    "t = dice(2)\n",
    "print(t)"
   ]
  },
  {
   "cell_type": "code",
   "execution_count": null,
   "metadata": {},
   "outputs": [],
   "source": []
  }
 ],
 "metadata": {
  "kernelspec": {
   "display_name": "Python 3",
   "language": "python",
   "name": "python3"
  },
  "language_info": {
   "codemirror_mode": {
    "name": "ipython",
    "version": 3
   },
   "file_extension": ".py",
   "mimetype": "text/x-python",
   "name": "python",
   "nbconvert_exporter": "python",
   "pygments_lexer": "ipython3",
   "version": "3.7.6"
  }
 },
 "nbformat": 4,
 "nbformat_minor": 4
}
