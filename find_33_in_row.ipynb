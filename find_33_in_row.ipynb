{
 "cells": [
  {
   "cell_type": "code",
   "execution_count": 22,
   "metadata": {},
   "outputs": [],
   "source": [
    "def find_33(nums):\n",
    "    \n",
    "    for i in range (0, len (nums)-1):\n",
    "        if nums[i] == 3 and nums [i+1] == 3:\n",
    "            return True\n",
    "    return False   # input like ([1,3,3,1]) true or ([1,3,1,4])false\n"
   ]
  },
  {
   "cell_type": "code",
   "execution_count": 26,
   "metadata": {},
   "outputs": [
    {
     "data": {
      "text/plain": [
       "False"
      ]
     },
     "execution_count": 26,
     "metadata": {},
     "output_type": "execute_result"
    }
   ],
   "source": [
    "find_33([1,3,1,3])"
   ]
  },
  {
   "cell_type": "code",
   "execution_count": 32,
   "metadata": {},
   "outputs": [],
   "source": [
    "# efficient way\n",
    "\n",
    "def find_33_(nums):\n",
    "    \n",
    "    for i in range (0, len (nums)-1):\n",
    "        \n",
    "        if nums[i:i+2] == [3,3]:   \n",
    "\n",
    "            return True\n",
    "        \n",
    "    return False   # input like ([1,3,3,1]) true or ([1,3,1,4])false\n"
   ]
  },
  {
   "cell_type": "code",
   "execution_count": 35,
   "metadata": {},
   "outputs": [
    {
     "data": {
      "text/plain": [
       "False"
      ]
     },
     "execution_count": 35,
     "metadata": {},
     "output_type": "execute_result"
    }
   ],
   "source": [
    "find_33_([1,3,4,3])"
   ]
  }
 ],
 "metadata": {
  "kernelspec": {
   "display_name": "Python 3",
   "language": "python",
   "name": "python3"
  },
  "language_info": {
   "codemirror_mode": {
    "name": "ipython",
    "version": 3
   },
   "file_extension": ".py",
   "mimetype": "text/x-python",
   "name": "python",
   "nbconvert_exporter": "python",
   "pygments_lexer": "ipython3",
   "version": "3.7.6"
  }
 },
 "nbformat": 4,
 "nbformat_minor": 4
}
