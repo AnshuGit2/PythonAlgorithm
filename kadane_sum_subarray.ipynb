{
 "cells": [
  {
   "cell_type": "code",
   "execution_count": 1,
   "metadata": {},
   "outputs": [
    {
     "data": {
      "text/plain": [
       "<function print>"
      ]
     },
     "execution_count": 1,
     "metadata": {},
     "output_type": "execute_result"
    }
   ],
   "source": [
    "# function to return maximum number among three numbers\n",
    "def maximum(a, b, c):\n",
    "  if (a>=b and a>=c):\n",
    "    return a\n",
    "  elif (b>=a and b>=c):\n",
    "    return b\n",
    "  return c\n",
    "\n",
    "# function to find maximum sum of subarray crossing the middle element\n",
    "def max_crossing_subarray(ar, low, mid, high):\n",
    "  '''\n",
    "    Initial left_sum should be -infinity.\n",
    "  '''\n",
    "  left_sum = -10\n",
    "  sum = 0\n",
    "\n",
    "  '''\n",
    "    iterating from middle\n",
    "    element to the lowest element\n",
    "    to find the maximum sum of the left\n",
    "    subarray containing the middle\n",
    "    element also.\n",
    "  '''\n",
    "  for i in range(mid, low-1, -1):\n",
    "    sum = sum+ar[i]\n",
    "    if (sum>left_sum):\n",
    "      left_sum = sum\n",
    "\n",
    "  '''\n",
    "    Similarly, finding the maximum\n",
    "    sum of right subarray containing\n",
    "    the adjacent right element to the\n",
    "    middle element.\n",
    "  '''\n",
    "  right_sum = -1000000\n",
    "  sum = 0\n",
    "\n",
    "  for i in range(mid+1, high+1):\n",
    "    sum = sum+ar[i]\n",
    "    if (sum>right_sum):\n",
    "      right_sum = sum\n",
    "\n",
    "  '''\n",
    "    returning the maximum sum of the subarray\n",
    "    containing the middle element.\n",
    "  '''\n",
    "  return left_sum+right_sum\n",
    "\n",
    "# function to calculate the maximum subarray sum\n",
    "def max_sum_subarray(ar, low, high):\n",
    "  if (high == low): # only one element in an array\n",
    "    return ar[high]\n",
    "\n",
    "  # middle element of the array\n",
    "  mid = (high+low)//2\n",
    "\n",
    "  # maximum sum in the left subarray\n",
    "  maximum_sum_left_subarray = max_sum_subarray(ar, low, mid)\n",
    "  # maximum sum in the right subarray\n",
    "  maximum_sum_right_subarray = max_sum_subarray(ar, mid+1, high)\n",
    "  # maximum sum in the array containing the middle element\n",
    "  maximum_sum_crossing_subarray = max_crossing_subarray(ar, low, mid, high)\n",
    "\n",
    "  # returning the maximum among the above three numbers\n",
    "  return maximum(maximum_sum_left_subarray, maximum_sum_right_subarray, maximum_sum_crossing_subarray)\n",
    "\n",
    "a = [3, -1, -1, 10, -3, -2, 4]\n",
    "print"
   ]
  },
  {
   "cell_type": "code",
   "execution_count": 6,
   "metadata": {},
   "outputs": [
    {
     "data": {
      "text/plain": [
       "1"
      ]
     },
     "execution_count": 6,
     "metadata": {},
     "output_type": "execute_result"
    }
   ],
   "source": [
    "maximum( -3,-2,1)"
   ]
  },
  {
   "cell_type": "code",
   "execution_count": 10,
   "metadata": {},
   "outputs": [
    {
     "ename": "TypeError",
     "evalue": "max_sum_subarray() missing 3 required positional arguments: 'ar', 'low', and 'high'",
     "output_type": "error",
     "traceback": [
      "\u001b[1;31m---------------------------------------------------------------------------\u001b[0m",
      "\u001b[1;31mTypeError\u001b[0m                                 Traceback (most recent call last)",
      "\u001b[1;32m<ipython-input-10-ed2343f958e3>\u001b[0m in \u001b[0;36m<module>\u001b[1;34m\u001b[0m\n\u001b[1;32m----> 1\u001b[1;33m \u001b[0mmax_sum_subarray\u001b[0m\u001b[1;33m(\u001b[0m\u001b[1;33m)\u001b[0m\u001b[1;33m\u001b[0m\u001b[1;33m\u001b[0m\u001b[0m\n\u001b[0m",
      "\u001b[1;31mTypeError\u001b[0m: max_sum_subarray() missing 3 required positional arguments: 'ar', 'low', and 'high'"
     ]
    }
   ],
   "source": [
    "max_sum_subarray()"
   ]
  },
  {
   "cell_type": "code",
   "execution_count": 22,
   "metadata": {},
   "outputs": [
    {
     "ename": "NameError",
     "evalue": "name 'high' is not defined",
     "output_type": "error",
     "traceback": [
      "\u001b[1;31m---------------------------------------------------------------------------\u001b[0m",
      "\u001b[1;31mNameError\u001b[0m                                 Traceback (most recent call last)",
      "\u001b[1;32m<ipython-input-22-f59587b99f72>\u001b[0m in \u001b[0;36m<module>\u001b[1;34m\u001b[0m\n\u001b[0;32m      5\u001b[0m \u001b[1;33m\u001b[0m\u001b[0m\n\u001b[0;32m      6\u001b[0m   \u001b[1;31m# middle element of the array\u001b[0m\u001b[1;33m\u001b[0m\u001b[1;33m\u001b[0m\u001b[1;33m\u001b[0m\u001b[0m\n\u001b[1;32m----> 7\u001b[1;33m \u001b[0mmid\u001b[0m \u001b[1;33m=\u001b[0m \u001b[1;33m(\u001b[0m\u001b[0mhigh\u001b[0m \u001b[1;33m+\u001b[0m \u001b[0mlow\u001b[0m\u001b[1;33m)\u001b[0m\u001b[1;33m//\u001b[0m\u001b[1;36m2\u001b[0m\u001b[1;33m\u001b[0m\u001b[1;33m\u001b[0m\u001b[0m\n\u001b[0m\u001b[0;32m      8\u001b[0m \u001b[1;33m\u001b[0m\u001b[0m\n\u001b[0;32m      9\u001b[0m   \u001b[1;31m# maximum sum in the left subarray\u001b[0m\u001b[1;33m\u001b[0m\u001b[1;33m\u001b[0m\u001b[1;33m\u001b[0m\u001b[0m\n",
      "\u001b[1;31mNameError\u001b[0m: name 'high' is not defined"
     ]
    }
   ],
   "source": [
    "def max_sum_subarray(ar, low, high):\n",
    "    if (high == low): # only one element in an array\n",
    "        return ar[low, high]\n",
    "\n",
    "\n",
    "  # middle element of the array\n",
    "mid = (high + low)//2\n",
    "\n",
    "  # maximum sum in the left subarray\n",
    "maximum_sum_left_subarray = max_sum_subarray(ar, low, mid)\n",
    "\n",
    "  # maximum sum in the right subarray\n",
    "maximum_sum_right_subarray = max_sum_subarray(ar, mid+1, high)\n",
    "\n",
    "  # maximum sum in the array containing the middle element\n",
    "maximum_sum_crossing_subarray = max_crossing_subarray(ar, low, mid, high)\n",
    "\n",
    "\n",
    "\n",
    "  # returning the maximum among the above three numbers\n",
    "return maximum(maximum_sum_left_subarray, maximum_sum_right_subarray, maximum_sum_crossing_subarray)\n",
    "\n",
    "a = [3, -1, -1, 10, -3, -2, 4]\n",
    "print (max_sum_subarray)"
   ]
  },
  {
   "cell_type": "code",
   "execution_count": 26,
   "metadata": {},
   "outputs": [
    {
     "name": "stdout",
     "output_type": "stream",
     "text": [
      "Maximum contiguous sum is  13\n"
     ]
    }
   ],
   "source": [
    "def maxCrossingSum(arr, l, m, h):\n",
    " \n",
    "    # Include elements on left of mid.\n",
    "    sm = 0\n",
    "    left_sum = -10000\n",
    " \n",
    "    for i in range(m, l-1, -1):\n",
    "        sm = sm + arr[i]\n",
    " \n",
    "        if (sm > left_sum):\n",
    "            left_sum = sm\n",
    " \n",
    "    # Include elements on right of mid\n",
    "    sm = 0\n",
    "    right_sum = -1000\n",
    "    for i in range(m + 1, h + 1):\n",
    "        sm = sm + arr[i]\n",
    " \n",
    "        if (sm > right_sum):\n",
    "            right_sum = sm\n",
    " \n",
    "    # Return sum of elements on left and right of mid\n",
    "    # returning only left_sum + right_sum will fail for [-2, 1]\n",
    "    return max(left_sum + right_sum, left_sum, right_sum)\n",
    " \n",
    " \n",
    "# Returns sum of maxium sum subarray in aa[l..h]\n",
    "def maxSubArraySum(arr, l, h):\n",
    " \n",
    "    # Base Case: Only one element\n",
    "    if (l == h):\n",
    "        return arr[l]\n",
    " \n",
    "    # Find middle point\n",
    "    m = (l + h) // 2\n",
    " \n",
    "    # Return maximum of following three possible cases\n",
    "    # a) Maximum subarray sum in left half\n",
    "    # b) Maximum subarray sum in right half\n",
    "    # c) Maximum subarray sum such that the\n",
    "    #     subarray crosses the midpoint\n",
    "    return max(maxSubArraySum(arr, l, m),\n",
    "               maxSubArraySum(arr, m+1, h),\n",
    "               maxCrossingSum(arr, l, m, h))\n",
    " \n",
    " \n",
    "# Driver Code\n",
    "arr = [2, 3, -4, 5, 7]\n",
    "n = len(arr)\n",
    " \n",
    "max_sum = maxSubArraySum(arr, 0, n-1)\n",
    "print(\"Maximum contiguous sum is \", max_sum)"
   ]
  },
  {
   "cell_type": "code",
   "execution_count": 28,
   "metadata": {},
   "outputs": [
    {
     "name": "stdout",
     "output_type": "stream",
     "text": [
      "Maximum contiguous sum is  13\n"
     ]
    }
   ],
   "source": [
    "def maxSubArraySum(arr, l, h):\n",
    " \n",
    "    # Base Case: Only one element\n",
    "    if (l == h):\n",
    "        return arr[l]\n",
    " \n",
    "    # Find middle point\n",
    "    m = (l + h) // 2\n",
    " \n",
    "    # Return maximum of following three possible cases\n",
    "    # a) Maximum subarray sum in left half\n",
    "    # b) Maximum subarray sum in right half\n",
    "    # c) Maximum subarray sum such that the\n",
    "    #     subarray crosses the midpoint\n",
    "    return max(maxSubArraySum(arr, l, m),\n",
    "               maxSubArraySum(arr, m+1, h),\n",
    "               maxCrossingSum(arr, l, m, h))\n",
    " \n",
    " \n",
    "# Driver Code\n",
    "arr = [2, 3, -4, 5, 7]\n",
    "n = len(arr)\n",
    " \n",
    "max_sum = maxSubArraySum(arr, 0, n-1)\n",
    "print(\"Maximum contiguous sum is \", max_sum)"
   ]
  },
  {
   "cell_type": "code",
   "execution_count": 7,
   "metadata": {},
   "outputs": [
    {
     "name": "stdout",
     "output_type": "stream",
     "text": [
      "<function maxSubArraySuma at 0x00000256BD45A4C8>\n"
     ]
    }
   ],
   "source": [
    "def maxSubArraySuma(a,size): \n",
    "    max_so_far = a[0]\n",
    "    curr_max = a[0]\n",
    "    for i in range(1,size):\n",
    "        \n",
    "        curr_max = max(a[i], curr_max + a[i])        \n",
    "        max_so_far = max(max_so_far,curr_max)\n",
    "        \n",
    "        return max_so_far\n",
    "    a = [2, 3, -4, 5, 7]     \n",
    "print (maxSubArraySuma)"
   ]
  },
  {
   "cell_type": "code",
   "execution_count": 5,
   "metadata": {},
   "outputs": [
    {
     "name": "stdout",
     "output_type": "stream",
     "text": [
      "Sum of subarray:  5\n"
     ]
    }
   ],
   "source": [
    "def maxsubarr_sum(a,n):            # return max subarray function\n",
    "    max_best_sofar =a[0]\n",
    "    curr_max_sum = a[0]\n",
    "     \n",
    "    for i in range(1,n):\n",
    "        curr_max_sum = max(a[i], curr_max_sum + a[i])\n",
    "        max_best_sofar = max(max_best_sofar,curr_max_sum)\n",
    "         \n",
    "    return max_best_sofar\n",
    "a = [2, -3, 4, 1, -10, 5, -3]\n",
    "print ( \"Sum of subarray: \", maxsubarr_sum(a,len(a))) # Printing the maximum sum of the subarray"
   ]
  },
  {
   "cell_type": "code",
   "execution_count": 1,
   "metadata": {},
   "outputs": [
    {
     "name": "stdout",
     "output_type": "stream",
     "text": [
      "Maximum contiguous sum is 7\n"
     ]
    }
   ],
   "source": [
    "def maxSubArraySum(a,size):\n",
    "     \n",
    "    max_so_far =a[0]\n",
    "    curr_max = a[0]\n",
    "     \n",
    "    for i in range(1,size):\n",
    "        curr_max = max(a[i], curr_max + a[i])\n",
    "        max_so_far = max(max_so_far,curr_max)\n",
    "         \n",
    "    return max_so_far\n",
    " \n",
    "# Driver function to check the above function \n",
    "a = [-2, -3, 4, -1, -2, 1, 5, -3]\n",
    "print(\"Maximum contiguous sum is\" , maxSubArraySum(a,len(a)))"
   ]
  }
 ],
 "metadata": {
  "kernelspec": {
   "display_name": "Python 3",
   "language": "python",
   "name": "python3"
  },
  "language_info": {
   "codemirror_mode": {
    "name": "ipython",
    "version": 3
   },
   "file_extension": ".py",
   "mimetype": "text/x-python",
   "name": "python",
   "nbconvert_exporter": "python",
   "pygments_lexer": "ipython3",
   "version": "3.7.6"
  }
 },
 "nbformat": 4,
 "nbformat_minor": 4
}
