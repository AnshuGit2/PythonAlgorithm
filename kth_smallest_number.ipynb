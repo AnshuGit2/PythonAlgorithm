{
 "cells": [
  {
   "cell_type": "code",
   "execution_count": 8,
   "metadata": {},
   "outputs": [
    {
     "name": "stdout",
     "output_type": "stream",
     "text": [
      "[-10, 3, 5, 7, 12]\n",
      "K'th smallest element is 3\n"
     ]
    }
   ],
   "source": [
    "# Python3 program to find k'th smallest \n",
    "# element  \n",
    "  \n",
    "# Function to return k'th smallest  \n",
    "# element in a given array  \n",
    "def kthSmallest(arr, n, k): \n",
    "  \n",
    "    # Return k'th element in the  \n",
    "    # sorted array  \n",
    "    return arr[k-1] \n",
    "  \n",
    "# Driver code \n",
    "if __name__=='__main__': \n",
    "    arr = [12, 3, 5, 7,-10] \n",
    "    arr.sort()   # Sort the given array  \n",
    "    n = len(arr) \n",
    "    k = 2\n",
    "    print (arr)\n",
    "    print(\"K'th smallest element is\", \n",
    "          kthSmallest(arr, n, k)) \n",
    "  \n"
   ]
  }
 ],
 "metadata": {
  "kernelspec": {
   "display_name": "Python 3",
   "language": "python",
   "name": "python3"
  },
  "language_info": {
   "codemirror_mode": {
    "name": "ipython",
    "version": 3
   },
   "file_extension": ".py",
   "mimetype": "text/x-python",
   "name": "python",
   "nbconvert_exporter": "python",
   "pygments_lexer": "ipython3",
   "version": "3.7.6"
  }
 },
 "nbformat": 4,
 "nbformat_minor": 4
}
