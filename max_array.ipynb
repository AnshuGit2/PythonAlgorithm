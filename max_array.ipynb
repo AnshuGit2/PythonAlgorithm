{
 "cells": [
  {
   "cell_type": "code",
   "execution_count": 53,
   "metadata": {},
   "outputs": [
    {
     "name": "stdout",
     "output_type": "stream",
     "text": [
      "Maximum element in given array is 356\n"
     ]
    }
   ],
   "source": [
    "  # , the name and description of the program, the date, and the names of anyone with whom you consulted\n",
    "#on the program. Any code submitted which is not your own original code should be attributed to its source\n",
    "#via comments. \n",
    "\n",
    "# python function to find maximum \n",
    "# in array[] of size a\n",
    "def maximal(array,a): \n",
    "  \n",
    "    # Initialize maximum element \n",
    "    max = array[0] \n",
    "  \n",
    " \n",
    "    # and compare every element with\n",
    "    # current max \n",
    "    for i in range(1, a):    # comparing element from second to last\n",
    "        if array[i] > max:   # element is \n",
    "            max = array[i] \n",
    "    return max\n",
    "  \n",
    "# Driver Code \n",
    "array = [4, 5, 6, 72, 356, 92, 34, 7] \n",
    "a = len(array) \n",
    "Ans = maximal(array,a) \n",
    "print (\"Maximum element in given array is\",Ans) "
   ]
  },
  {
   "cell_type": "code",
   "execution_count": 56,
   "metadata": {},
   "outputs": [
    {
     "name": "stdout",
     "output_type": "stream",
     "text": [
      "4 5 6 72 44 522 9\n",
      "Maximum element in given array is 9\n"
     ]
    }
   ],
   "source": [
    "def maximala(array,a): \n",
    "    max = array[0] \n",
    "    for i in range(1, a):    # comparing element from second to last\n",
    "        if array[i] > max:   # element is \n",
    "            max = array[i] \n",
    "    return max\n",
    "array = input().split() #[4, 5, 6, 72, 356, 92, 34, 7] \n",
    "a = len(array) \n",
    "Ans = maximala(array,a) \n",
    "\n",
    "print (\"Maximum element in given array is\",Ans) \n",
    "\n",
    "\n"
   ]
  },
  {
   "cell_type": "code",
   "execution_count": 5,
   "metadata": {},
   "outputs": [
    {
     "name": "stdout",
     "output_type": "stream",
     "text": [
      "3\n",
      "4\n",
      "5\n",
      "6\n",
      "7\n",
      "8\n",
      "9\n"
     ]
    }
   ],
   "source": [
    "for index in range(3,10):\n",
    "    print (index)"
   ]
  },
  {
   "cell_type": "code",
   "execution_count": null,
   "metadata": {},
   "outputs": [],
   "source": []
  },
  {
   "cell_type": "code",
   "execution_count": 37,
   "metadata": {},
   "outputs": [],
   "source": [
    "def myfunc():\n",
    "    bool = input(\"Enter letter \")\n",
    "    if (bool == 'z'):\n",
    "        print (\"x\")\n",
    "    elif (bool == '' ):\n",
    "            print(\"y\")\n",
    "    else:\n",
    "            print(\"wrong input\")\n",
    "            \n",
    "            \n",
    "            \n"
   ]
  },
  {
   "cell_type": "code",
   "execution_count": null,
   "metadata": {},
   "outputs": [],
   "source": []
  }
 ],
 "metadata": {
  "kernelspec": {
   "display_name": "Python 3",
   "language": "python",
   "name": "python3"
  },
  "language_info": {
   "codemirror_mode": {
    "name": "ipython",
    "version": 3
   },
   "file_extension": ".py",
   "mimetype": "text/x-python",
   "name": "python",
   "nbconvert_exporter": "python",
   "pygments_lexer": "ipython3",
   "version": "3.7.6"
  }
 },
 "nbformat": 4,
 "nbformat_minor": 4
}
