def maximal(list,a): 
    max = list[0] 
    for i in range(1, a):    # comparing element from second to last
        if list[i] > max:   # element is 
            max = list[i] 
    return max
list = input().split() 
a = len(list) 
Max = maximal(list,a) 

print ("Maximum element in given array is",Max) 



