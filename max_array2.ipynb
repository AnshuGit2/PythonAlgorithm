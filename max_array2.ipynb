#Finding maximal element of the array 
import math                             # module instance

negative_infinity = -math.inf   # the negative infinity value that is lower than any positive number 
arr =input().split()                    # creating elements for list
if len(arr)==0:                         # 
    print('Negative Infinity: ', negative_infinity)    #print ("-infinity")
else:
    max = arr [0]
n = len (arr)
for i in range(1,n):
      if arr [i]>max:
        max= arr[i]
print(max)
             
# Python3 program to find maximum 
# in arr[] of size n  
  
# python function to find maximum 
# in arr[] of size n 
def largest(arr,n): 
  
    # Initialize maximum element 
    max = arr[0] 
  
    # Traverse array elements from second 
    # and compare every element with  
    # current max 
    for i in range(1, n): 
        if arr[i] > max: 
            max = arr[i] 
    return max
  
# Driver Code 
arr = [10, 324, 45, 90, 9808] 
n = len(arr) 
Ans = largest(arr,n) 
print ("Largest in given array is",Ans)   
   

