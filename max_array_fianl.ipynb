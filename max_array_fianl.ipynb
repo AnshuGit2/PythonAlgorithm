{
 "cells": [
  {
   "cell_type": "code",
   "execution_count": 7,
   "metadata": {},
   "outputs": [
    {
     "name": "stdout",
     "output_type": "stream",
     "text": [
      "10 30 20 40\n",
      "40\n"
     ]
    }
   ],
   "source": [
    "arr =input().split()   #[10, 20 ,30, 40]\n",
    "max = arr [0]\n",
    "key = len (arr)\n",
    "for i in range(1,key):    # preconditon: all inputs must be integer and capeble for greater then or less then\n",
    "    if arr [i]>max:     # it's short the array\n",
    "        max= arr[i]\n",
    "print(max)"
   ]
  },
  {
   "cell_type": "code",
   "execution_count": 26,
   "metadata": {},
   "outputs": [
    {
     "name": "stdout",
     "output_type": "stream",
     "text": [
      "list is empty\n"
     ]
    }
   ],
   "source": [
    " a=[] # Empty lists evaluate to False\n",
    "if not a:\n",
    "    print (\"list is empty\")\n",
    "else:\n",
    "    print (\"list is not empty\")"
   ]
  },
  {
   "cell_type": "markdown",
   "metadata": {},
   "source": [
    "\n"
   ]
  },
  {
   "cell_type": "code",
   "execution_count": null,
   "metadata": {},
   "outputs": [],
   "source": []
  },
  {
   "cell_type": "code",
   "execution_count": 25,
   "metadata": {},
   "outputs": [],
   "source": [
    "def max(A):\n",
    "    answer = A[0]  \n",
    "    for i in range(1,len(A)): # in pseudo-code: for i=1,...,len(A)-1\n",
    "        if (A[i]>answer): answer = A[i] \n",
    "    return answer"
   ]
  },
  {
   "cell_type": "code",
   "execution_count": 28,
   "metadata": {},
   "outputs": [
    {
     "data": {
      "text/plain": [
       "40"
      ]
     },
     "execution_count": 28,
     "metadata": {},
     "output_type": "execute_result"
    }
   ],
   "source": [
    "max([40,20,30])\n"
   ]
  },
  {
   "cell_type": "code",
   "execution_count": 4,
   "metadata": {},
   "outputs": [
    {
     "name": "stdout",
     "output_type": "stream",
     "text": [
      "list is empty\n"
     ]
    }
   ],
   "source": [
    "if len(a)==0:\n",
    "    print (\"list is empty\")\n",
    "else:\n",
    "    print (\"list is not empty\")"
   ]
  },
  {
   "cell_type": "code",
   "execution_count": 1,
   "metadata": {},
   "outputs": [
    {
     "name": "stdout",
     "output_type": "stream",
     "text": [
      "954 200 400 10000\n",
      "954\n"
     ]
    }
   ],
   "source": [
    "import math\n",
    "\n",
    "negative_infinity = -math.inf \n",
    "arr =input().split()   #[10, 20 ,30, 40]\n",
    "if len(arr)==0:\n",
    "        print('Negative Infinity: ', negative_infinity)    #print (\"-infinity\")\n",
    "else:\n",
    "    max = arr [0]\n",
    "    n = len (arr)\n",
    "    for i in range(1,n):\n",
    "        if arr [i]>max:\n",
    "            max= arr[i]\n",
    "    print( max)\n",
    "    \n",
    "   \n",
    "\n"
   ]
  },
  {
   "cell_type": "code",
   "execution_count": 4,
   "metadata": {},
   "outputs": [
    {
     "name": "stdout",
     "output_type": "stream",
     "text": [
      "90 20 30 40\n",
      "90\n"
     ]
    }
   ],
   "source": [
    "import math                                         #module instance\n",
    "\n",
    "negative_infinity = -math.inf                       \n",
    "arr = input().split()  # 90 20 30 40                # creating list of elements\n",
    "if len(arr)==0:                                     # empty array \n",
    "    print('Negative Infinity: ', negative_infinity) # print \"-infinity\" if array is empty\n",
    "else:\n",
    "    max = arr [0]                                   # Initializing element \n",
    "n = len (arr)                                     # Driver code\n",
    "for j in range(1,n):                              # Traverse array elements from second \n",
    "      if arr [j]>max:                               # and compare every element with max\n",
    "        max= arr[j]\n",
    "print(max)                                          \n",
    " \n",
    "# Postcondition:   # it's short the array     \n",
    "  \n",
    "# preconditon: all inputs must be integer and capeble for greater then or less then\n",
    "    \n",
    "# line 5 if array is empty print negative ifinity else print shorted array \n"
   ]
  },
  {
   "cell_type": "code",
   "execution_count": 6,
   "metadata": {},
   "outputs": [
    {
     "name": "stdout",
     "output_type": "stream",
     "text": [
      "8\n"
     ]
    }
   ],
   "source": [
    "def power(x, y): \n",
    "  \n",
    "    if (y == 0): return 1\n",
    "    elif (int(y % 2) == 0): \n",
    "        return (power(x, int(y / 2)) *\n",
    "               power(x, int(y / 2))) \n",
    "    else: \n",
    "        return (x * power(x, int(y / 2)) *\n",
    "                   power(x, int(y / 2))) \n",
    "  \n",
    "# Driver Code \n",
    "x = 2; y = 3\n",
    "print(power(x, y)) \n",
    "  \n"
   ]
  },
  {
   "cell_type": "code",
   "execution_count": 38,
   "metadata": {},
   "outputs": [
    {
     "name": "stdout",
     "output_type": "stream",
     "text": [
      "\n",
      "Negative Infinity:  -inf\n",
      "90\n"
     ]
    }
   ],
   "source": [
    "import math                                         #module instance\n",
    "\n",
    "negative_infinity = -math.inf                       #\n",
    "arr =input().split()                                # creating list of elements\n",
    "if len(arr)==0:                                     # empty array \n",
    "    print('Negative Infinity: ', negative_infinity) # print \"-infinity\" if array is empty\n",
    "else:\n",
    "    \n",
    "    max = arr [0]                                   # Initializing element \n",
    "n = len (arr)                                       # Driver code\n",
    "for i in range(1,n):                                # Traverse array elements from second \n",
    "      if arr [i]>max:                               # and compare every element with max\n",
    "        max= arr[i]\n",
    "print(max)                                          \n",
    " \n",
    "# Postcondition:   # it's short the array     \n",
    "  \n",
    "# preconditon: all inputs must be integer and capeble for greater then or less then\n",
    "    \n",
    "# line 5 if array is empty print negative ifinity else print shorted array \n"
   ]
  },
  {
   "cell_type": "code",
   "execution_count": 27,
   "metadata": {},
   "outputs": [
    {
     "name": "stdout",
     "output_type": "stream",
     "text": [
      "range(1, 4)\n"
     ]
    }
   ],
   "source": [
    "i= range(1,4)\n",
    "print(i)\n"
   ]
  },
  {
   "cell_type": "code",
   "execution_count": 32,
   "metadata": {},
   "outputs": [
    {
     "name": "stdout",
     "output_type": "stream",
     "text": [
      "\n",
      "Negative Infinity:  -inf\n",
      "90\n"
     ]
    }
   ],
   "source": [
    "import math                                         #module instance\n",
    "\n",
    "negative_infinity = -math.inf                       \n",
    "arr = input().split()  # 90 20 30 40                # creating list of elements\n",
    "if len(arr)==0:                                     # empty array \n",
    "    print('Negative Infinity: ', negative_infinity) # print \"-infinity\" if array is empty\n",
    "else:\n",
    "    max = arr [0]                                   # Initializing element \n",
    "# Driver code\n",
    "for j in range(1,len(arr)):                         # Traverse array elements from second element \n",
    "      if arr [j]>max:                               # and compare every element with max\n",
    "        max= arr[j]\n",
    "print(max)                                          \n",
    " \n",
    "\n"
   ]
  },
  {
   "cell_type": "code",
   "execution_count": null,
   "metadata": {},
   "outputs": [],
   "source": []
  }
 ],
 "metadata": {
  "kernelspec": {
   "display_name": "Python 3",
   "language": "python",
   "name": "python3"
  },
  "language_info": {
   "codemirror_mode": {
    "name": "ipython",
    "version": 3
   },
   "file_extension": ".py",
   "mimetype": "text/x-python",
   "name": "python",
   "nbconvert_exporter": "python",
   "pygments_lexer": "ipython3",
   "version": "3.7.6"
  }
 },
 "nbformat": 4,
 "nbformat_minor": 4
}
