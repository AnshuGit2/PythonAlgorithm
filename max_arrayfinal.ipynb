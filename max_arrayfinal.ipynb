# arr =input().split()   #[10, 20 ,30, 40]
# max = arr [0]
# n = len (arr)
# for i in range(1,n):
#     if arr [i]>max:
#         max= arr[i]
# print( max)

arr =input().split()  
max = arr [0]
n = len (arr)
for i in range(1,n):
      if arr [i]>max:
        max= arr[i]
print(max)
             

            
          
# def maximal(list,a): 
#     max = list[0] 
#     for i in range(1, a):    # comparing element from second to last
#         if list[i] > max:   # element is 
#             max = list[i] 
#     return max
# list = input().split() 
# a = len(list) 
# Max = maximal(list,a) 

# print ("Maximum element in given array is",Max) 



