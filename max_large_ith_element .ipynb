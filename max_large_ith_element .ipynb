{
 "cells": [
  {
   "cell_type": "code",
   "execution_count": 6,
   "metadata": {},
   "outputs": [
    {
     "name": "stdout",
     "output_type": "stream",
     "text": [
      "94 88 68 62 "
     ]
    }
   ],
   "source": [
    "import random\n",
    "\n",
    "arr=[random.randint(0,100) for i in range(0,10)]\n",
    "\n",
    "\n",
    "def kLargest(arr, k):\n",
    "    # Sort the given array arr in reverse \n",
    "    # order.\n",
    "    arr.sort(reverse = True)\n",
    "    # Print the first kth largest elements\n",
    "    for i in range(k):\n",
    "        print (arr[i], end =\" \") \n",
    " \n",
    "# Driver program\n",
    "#arr = [1, 23, 12, 9, 30, 2, 50]\n",
    "# n = len(arr)\n",
    "k = 4\n",
    "kLargest(arr, k)\n",
    " \n",
    "# This code is contributed by shreyanshi_arun."
   ]
  },
  {
   "cell_type": "code",
   "execution_count": 7,
   "metadata": {},
   "outputs": [
    {
     "name": "stdout",
     "output_type": "stream",
     "text": [
      "k'th largest element in the list is 1\n"
     ]
    }
   ],
   "source": [
    "# min heap \n",
    "import heapq\n",
    " \n",
    "# Function to find the k'th largest element in a list using min-heap\n",
    "def find_kth_largest(ints, k):\n",
    " \n",
    "    # build a min-heap from the first `k` elements in the list\n",
    "    pq = ints[0:k]\n",
    "    heapq.heapify(pq)\n",
    " \n",
    "    # do for remaining list elements\n",
    "    for i in range(k, len(ints)):\n",
    "        # if the current element is more than the root of the heap\n",
    "        if ints[i] > pq[0]:\n",
    "            # replace root with the current element\n",
    "            heapq.heapreplace(pq, ints[i])\n",
    " \n",
    "    # return the root of min-heap\n",
    "    return pq[0]\n",
    " \n",
    " \n",
    "if __name__ == '__main__':\n",
    " \n",
    "    ints = [8, 4, 6, 3, 9, 1]\n",
    "    k = 6\n",
    " \n",
    "    print(\"k'th largest element in the list is\", find_kth_largest(ints, k))"
   ]
  },
  {
   "cell_type": "code",
   "execution_count": 8,
   "metadata": {},
   "outputs": [
    {
     "name": "stdout",
     "output_type": "stream",
     "text": [
      "k'th largest element in the list is 7\n",
      "[6, 7, 9]\n"
     ]
    }
   ],
   "source": [
    "# using max heap\n",
    "import heapq\n",
    " \n",
    " \n",
    "# A simple implementation of max-heap based on `heapq`\n",
    "class MaxHeap:\n",
    " \n",
    "    def __init__(self, data=None):\n",
    "        if data is None:\n",
    "            self.data = []\n",
    "        else:\n",
    "            self.data = [-i for i in data]\n",
    "            heapq.heapify(self.data)\n",
    " \n",
    "    def top(self):\n",
    "        return -self.data[0]\n",
    " \n",
    "    def push(self, item):\n",
    "        heapq.heappush(self.data, -item)\n",
    " \n",
    "    def pop(self):\n",
    "        return -heapq.heappop(self.data)\n",
    " \n",
    "    def replace(self, item):\n",
    "        return heapq.heapreplace(self.data, -item)\n",
    " \n",
    " \n",
    "# Function to find the k'th largest element in a list using max-heap\n",
    "def find_kth_largest(ints, k):\n",
    " \n",
    "    # build a max-heap from all elements in the list\n",
    "    pq = MaxHeap(ints)\n",
    " \n",
    "    # pop from max-heap exactly `k-1` times\n",
    "    while k > 1:\n",
    "        pq.pop()\n",
    "        k = k - 1\n",
    " \n",
    "    # return the root of max-heap\n",
    "    return pq.top()\n",
    " \n",
    " \n",
    "if __name__ == '__main__':\n",
    " \n",
    "    ints = [7, 4, 6, 3, 9, 1]\n",
    "    k = 2\n",
    " \n",
    "    print(\"k'th largest element in the list is\", find_kth_largest(ints, k))\n",
    "    k_largest(3)    \n",
    " "
   ]
  },
  {
   "cell_type": "code",
   "execution_count": 5,
   "metadata": {},
   "outputs": [
    {
     "name": "stdout",
     "output_type": "stream",
     "text": [
      "[6, 7, 9]\n"
     ]
    }
   ],
   "source": [
    "def pop(arr,n):\n",
    "    top = arr[0]\n",
    "    arr[0] = arr[n-1]\n",
    "    heapify(arr,0,n-1)\n",
    "    return top\n",
    " \n",
    "def heapify(arr,i,n):\n",
    "    left = 2 * i + 1\n",
    "    right = 2 * i + 2\n",
    "    largest = i \n",
    " \n",
    "    if left < n and arr[left] > arr[largest]:\n",
    "        largest = left\n",
    "    if right < n and arr[right] > arr[largest]:\n",
    "        largest = right\n",
    " \n",
    "    if i != largest:\n",
    "        arr[i], arr[largest] = arr[largest], arr[i]\n",
    "        heapify(arr,largest,n)\n",
    " \n",
    "def heapSORT(arr):\n",
    "    n = len(arr)\n",
    "    i = (n-2)//2\n",
    "    while i >=0:\n",
    "        heapify(arr,i,n)\n",
    "        i -= 1\n",
    "    while n:\n",
    "        arr[n-1] = pop(arr,n)\n",
    "        n -= 1    \n",
    " \n",
    "def k_largest(k):\n",
    "    arr = [7, 4, 6, 3, 9, 1]\n",
    "    pq = arr[:k]\n",
    "    heapSORT(pq)\n",
    " \n",
    "    for i in range(k,len(arr)):\n",
    "        if arr[i] > pq[0]:\n",
    "            pq[0] = arr[i]\n",
    "            heapSORT(pq)\n",
    "    print(pq)\n",
    " \n",
    "k_largest(3)"
   ]
  },
  {
   "cell_type": "code",
   "execution_count": 2,
   "metadata": {},
   "outputs": [
    {
     "ename": "NameError",
     "evalue": "name 'heapify' is not defined",
     "output_type": "error",
     "traceback": [
      "\u001b[1;31m---------------------------------------------------------------------------\u001b[0m",
      "\u001b[1;31mNameError\u001b[0m                                 Traceback (most recent call last)",
      "\u001b[1;32m<ipython-input-2-ec8842f16b9e>\u001b[0m in \u001b[0;36m<module>\u001b[1;34m\u001b[0m\n\u001b[0;32m     20\u001b[0m     \u001b[0mprint\u001b[0m\u001b[1;33m(\u001b[0m\u001b[0mpq\u001b[0m\u001b[1;33m)\u001b[0m\u001b[1;33m\u001b[0m\u001b[1;33m\u001b[0m\u001b[0m\n\u001b[0;32m     21\u001b[0m \u001b[1;33m\u001b[0m\u001b[0m\n\u001b[1;32m---> 22\u001b[1;33m \u001b[0mk_largest\u001b[0m\u001b[1;33m(\u001b[0m\u001b[1;36m3\u001b[0m\u001b[1;33m)\u001b[0m\u001b[1;33m\u001b[0m\u001b[1;33m\u001b[0m\u001b[0m\n\u001b[0m",
      "\u001b[1;32m<ipython-input-2-ec8842f16b9e>\u001b[0m in \u001b[0;36mk_largest\u001b[1;34m(k)\u001b[0m\n\u001b[0;32m     12\u001b[0m     \u001b[0marr\u001b[0m \u001b[1;33m=\u001b[0m \u001b[1;33m[\u001b[0m\u001b[1;36m7\u001b[0m\u001b[1;33m,\u001b[0m \u001b[1;36m4\u001b[0m\u001b[1;33m,\u001b[0m \u001b[1;36m6\u001b[0m\u001b[1;33m,\u001b[0m \u001b[1;36m3\u001b[0m\u001b[1;33m,\u001b[0m \u001b[1;36m9\u001b[0m\u001b[1;33m,\u001b[0m \u001b[1;36m1\u001b[0m\u001b[1;33m]\u001b[0m\u001b[1;33m\u001b[0m\u001b[1;33m\u001b[0m\u001b[0m\n\u001b[0;32m     13\u001b[0m     \u001b[0mpq\u001b[0m \u001b[1;33m=\u001b[0m \u001b[0marr\u001b[0m\u001b[1;33m[\u001b[0m\u001b[1;33m:\u001b[0m\u001b[0mk\u001b[0m\u001b[1;33m]\u001b[0m\u001b[1;33m\u001b[0m\u001b[1;33m\u001b[0m\u001b[0m\n\u001b[1;32m---> 14\u001b[1;33m     \u001b[0mheapSORT\u001b[0m\u001b[1;33m(\u001b[0m\u001b[0mpq\u001b[0m\u001b[1;33m)\u001b[0m\u001b[1;33m\u001b[0m\u001b[1;33m\u001b[0m\u001b[0m\n\u001b[0m\u001b[0;32m     15\u001b[0m \u001b[1;33m\u001b[0m\u001b[0m\n\u001b[0;32m     16\u001b[0m     \u001b[1;32mfor\u001b[0m \u001b[0mi\u001b[0m \u001b[1;32min\u001b[0m \u001b[0mrange\u001b[0m\u001b[1;33m(\u001b[0m\u001b[0mk\u001b[0m\u001b[1;33m,\u001b[0m\u001b[0mlen\u001b[0m\u001b[1;33m(\u001b[0m\u001b[0marr\u001b[0m\u001b[1;33m)\u001b[0m\u001b[1;33m)\u001b[0m\u001b[1;33m:\u001b[0m\u001b[1;33m\u001b[0m\u001b[1;33m\u001b[0m\u001b[0m\n",
      "\u001b[1;32m<ipython-input-2-ec8842f16b9e>\u001b[0m in \u001b[0;36mheapSORT\u001b[1;34m(arr)\u001b[0m\n\u001b[0;32m      3\u001b[0m     \u001b[0mi\u001b[0m \u001b[1;33m=\u001b[0m \u001b[1;33m(\u001b[0m\u001b[0mn\u001b[0m\u001b[1;33m-\u001b[0m\u001b[1;36m2\u001b[0m\u001b[1;33m)\u001b[0m\u001b[1;33m//\u001b[0m\u001b[1;36m2\u001b[0m\u001b[1;33m\u001b[0m\u001b[1;33m\u001b[0m\u001b[0m\n\u001b[0;32m      4\u001b[0m     \u001b[1;32mwhile\u001b[0m \u001b[0mi\u001b[0m \u001b[1;33m>=\u001b[0m\u001b[1;36m0\u001b[0m\u001b[1;33m:\u001b[0m\u001b[1;33m\u001b[0m\u001b[1;33m\u001b[0m\u001b[0m\n\u001b[1;32m----> 5\u001b[1;33m         \u001b[0mheapify\u001b[0m\u001b[1;33m(\u001b[0m\u001b[0marr\u001b[0m\u001b[1;33m,\u001b[0m\u001b[0mi\u001b[0m\u001b[1;33m,\u001b[0m\u001b[0mn\u001b[0m\u001b[1;33m)\u001b[0m\u001b[1;33m\u001b[0m\u001b[1;33m\u001b[0m\u001b[0m\n\u001b[0m\u001b[0;32m      6\u001b[0m         \u001b[0mi\u001b[0m \u001b[1;33m-=\u001b[0m \u001b[1;36m1\u001b[0m\u001b[1;33m\u001b[0m\u001b[1;33m\u001b[0m\u001b[0m\n\u001b[0;32m      7\u001b[0m     \u001b[1;32mwhile\u001b[0m \u001b[0mn\u001b[0m\u001b[1;33m:\u001b[0m\u001b[1;33m\u001b[0m\u001b[1;33m\u001b[0m\u001b[0m\n",
      "\u001b[1;31mNameError\u001b[0m: name 'heapify' is not defined"
     ]
    }
   ],
   "source": [
    "def heapSORT(arr):\n",
    "    n = len(arr)\n",
    "    i = (n-2)//2\n",
    "    while i >=0:\n",
    "        heapify(arr,i,n)\n",
    "        i -= 1\n",
    "    while n:\n",
    "        arr[n-1] = pop(arr,n)\n",
    "        n -= 1    \n",
    " \n",
    "def k_largest(k):\n",
    "    arr = [7, 4, 6, 3, 9, 1]\n",
    "    pq = arr[:k]\n",
    "    heapSORT(pq)\n",
    " \n",
    "    for i in range(k,len(arr)):\n",
    "        if arr[i] > pq[0]:\n",
    "            pq[0] = arr[i]\n",
    "            heapSORT(pq)\n",
    "    print(pq)\n",
    " \n",
    "k_largest(3)"
   ]
  },
  {
   "cell_type": "code",
   "execution_count": null,
   "metadata": {},
   "outputs": [],
   "source": [
    "\n",
    "# Python3 code to find largest three\n",
    "# elements in an array\n",
    "import sys\n",
    " \n",
    "# Function to print three largest \n",
    "# elements \n",
    "def print3largest(arr, arr_size):\n",
    " \n",
    "    # There should be atleast three\n",
    "    # elements \n",
    "    if (arr_size < 3):\n",
    "     \n",
    "        print(\" Invalid Input \")\n",
    "        return\n",
    "     \n",
    "    third = first = second = -sys.maxsize\n",
    "     \n",
    "    for i in range(0, arr_size):\n",
    "     \n",
    "        # If current element is greater\n",
    "        # than first\n",
    "        if (arr[i] > first):\n",
    "         \n",
    "            third = second\n",
    "            second = first\n",
    "            first = arr[i]\n",
    "         \n",
    " \n",
    "        # If arr[i] is in between first\n",
    "        # and second then update second \n",
    "        elif (arr[i] > second):\n",
    "         \n",
    "            third = second\n",
    "            second = arr[i]\n",
    "         \n",
    "        elif (arr[i] > third):\n",
    "            third = arr[i]\n",
    "     \n",
    "    print(\"Three largest elements are\",\n",
    "                  first, second, third)\n",
    " \n",
    "# Driver program to test above function \n",
    "arr = [12, 13, 1, 10, 34, 1]\n",
    "n = len(arr)\n",
    "print3largest(arr, n)"
   ]
  }
 ],
 "metadata": {
  "kernelspec": {
   "display_name": "Python 3",
   "language": "python",
   "name": "python3"
  },
  "language_info": {
   "codemirror_mode": {
    "name": "ipython",
    "version": 3
   },
   "file_extension": ".py",
   "mimetype": "text/x-python",
   "name": "python",
   "nbconvert_exporter": "python",
   "pygments_lexer": "ipython3",
   "version": "3.7.6"
  }
 },
 "nbformat": 4,
 "nbformat_minor": 4
}
