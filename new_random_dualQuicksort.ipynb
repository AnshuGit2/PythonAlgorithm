{
 "cells": [
  {
   "cell_type": "code",
   "execution_count": 33,
   "metadata": {},
   "outputs": [
    {
     "name": "stdout",
     "output_type": "stream",
     "text": [
      "Downloaded the insertion sort in 0.00071 seconds\n",
      "Downloaded the dual pivot in 0.00098 seconds\n"
     ]
    }
   ],
   "source": [
    "import random\n",
    "import time\n",
    "\n",
    "def insertionsort(arr):   \n",
    "    for i in range(1, len(arr)):   \n",
    "        key = arr[i]   \n",
    "        j = i-1\n",
    "        while j >= 0 and key < arr[j] : \n",
    "                arr[j + 1] = arr[j] \n",
    "                j -= 1\n",
    "        arr[j + 1] = key \n",
    "\n",
    "def QuickSortDualPivot(list):\n",
    "    A = len(list)\n",
    "    if A <= 1:\n",
    "        return list\n",
    "    elif A == 2:\n",
    "        return sorted(list)\n",
    "    \n",
    "    pivot1, pivot2 = sorted([random.choice(list), random.choice(list)])\n",
    "    k = []\n",
    "    p = []\n",
    "    q = []\n",
    "    \n",
    "    for element in list:\n",
    "        if element < pivot1:\n",
    "            k.append(element)\n",
    "        elif pivot1 <= element < pivot2:\n",
    "            p.append(element)\n",
    "        else:\n",
    "            q.append(element)\n",
    "            \n",
    "    return QuickSortDualPivot(k) + QuickSortDualPivot(p) + QuickSortDualPivot(q)\n",
    "\n",
    "arr = random.sample(range(100), 100)\n",
    "\n",
    "tic_is = time.perf_counter()\n",
    "sorted_array1 = insertionsort(arr)\n",
    "toc_is = time.perf_counter()\n",
    "print(f\"Downloaded the insertion sort in {toc_is - tic_is:0.5f} seconds\")\n",
    "\n",
    "tic_ds = time.perf_counter()\n",
    "sorted_array2 =QuickSortDualPivot(arr)\n",
    "toc_ds = time.perf_counter()\n",
    "print(f\"Downloaded the dual pivot in {toc_ds - tic_ds:0.5f} seconds\")\n",
    "#print(sorted_array2)"
   ]
  },
  {
   "cell_type": "code",
   "execution_count": 1,
   "metadata": {},
   "outputs": [
    {
     "name": "stdout",
     "output_type": "stream",
     "text": [
      "Sorted Array [2, 5, 7, 8, 20, 33, 35, 40, 46, 59]\n"
     ]
    }
   ],
   "source": [
    "import random\n",
    "\n",
    "def QuickSortDualPivot(list):\n",
    "    A = len(list)\n",
    "    if A <= 1:\n",
    "        return list\n",
    "    elif A == 2:\n",
    "        return sorted(list)\n",
    "    \n",
    "    pivot1, pivot2 = sorted([random.choice(list), random.choice(list)])\n",
    "    k = []\n",
    "    p = []\n",
    "    q = []\n",
    "    for element in list:\n",
    "        if element < pivot1:\n",
    "            k.append(element)\n",
    "        elif pivot1 <= element < pivot2:\n",
    "            p.append(element)\n",
    "        else:\n",
    "            q.append(element)\n",
    "            \n",
    "    return QuickSortDualPivotka) + QuickSortDualPivot(p) + QuickSortDualPivot(q)\n",
    "\n",
    "arr = random.sample(range(60), 10)\n",
    "sorted_array2 =QuickSortDualPivot(arr)\n",
    "print(\"Sorted Array\",sorted_array2)"
   ]
  },
  {
   "cell_type": "code",
   "execution_count": 34,
   "metadata": {},
   "outputs": [],
   "source": [
    "def QuickSortDualPivot(list):\n",
    "    n = len(list)\n",
    "    if n <= 1:\n",
    "        return list\n",
    "    elif n == 2:\n",
    "        return sorted(list)\n",
    "    \n",
    "    pivot1, pivot2 = sorted([list.pop(0), list.pop(0)])\n",
    "    a = []\n",
    "    b = []\n",
    "    c = []\n",
    "    \n",
    "    for element in list:\n",
    "        if element < pivot1:\n",
    "            a.append(element)\n",
    "        elif pivot1 <= element < pivot2:\n",
    "            b.append(element)\n",
    "        else:\n",
    "            c.append(element)\n",
    "            \n",
    "    return QuickSortDualPivot(a) + QuickSortDualPivot(b) + QuickSortDualPivot(c)\n"
   ]
  },
  {
   "cell_type": "code",
   "execution_count": 39,
   "metadata": {},
   "outputs": [],
   "source": [
    "# sorted array in order\n",
    "import random\n",
    "import time\n",
    "#random\n",
    "arr = random.sample(range(1000000), 100000)\n",
    "#arr.sort()\n",
    "\n",
    "#increaseing\n",
    "#arr = list(range(0, 1000000))\n",
    "\n",
    "#decreasing\n",
    "#arr = list(reversed(range(0, 1000000)))"
   ]
  },
  {
   "cell_type": "code",
   "execution_count": 40,
   "metadata": {},
   "outputs": [
    {
     "name": "stdout",
     "output_type": "stream",
     "text": [
      "Downloaded the dual pivot in 0.0647 seconds\n"
     ]
    }
   ],
   "source": [
    "#system sort\n",
    "\n",
    "tic_ds = time.perf_counter()\n",
    "arr.sort()\n",
    "toc_ds = time.perf_counter()\n",
    "print(f\"Downloaded the dual pivot in {toc_ds - tic_ds:0.4f} seconds\")\n"
   ]
  },
  {
   "cell_type": "code",
   "execution_count": 37,
   "metadata": {},
   "outputs": [],
   "source": [
    "# dual-pivot sort\n",
    "import random\n",
    "import time\n",
    "#random\n",
    "#arr = random.sample(range(5000), 5000)\n",
    "#arr.sort()\n",
    "\n",
    "#increaseing\n",
    "#arr = list(range(0, 5000))\n",
    "# decreasing\n",
    "#arr = list(reversed(range(0, 5000)))\n"
   ]
  },
  {
   "cell_type": "code",
   "execution_count": 41,
   "metadata": {},
   "outputs": [
    {
     "ename": "RecursionError",
     "evalue": "maximum recursion depth exceeded while calling a Python object",
     "output_type": "error",
     "traceback": [
      "\u001b[1;31m---------------------------------------------------------------------------\u001b[0m",
      "\u001b[1;31mRecursionError\u001b[0m                            Traceback (most recent call last)",
      "\u001b[1;32m<ipython-input-41-f2e546a77495>\u001b[0m in \u001b[0;36m<module>\u001b[1;34m\u001b[0m\n\u001b[0;32m      3\u001b[0m \u001b[1;33m\u001b[0m\u001b[0m\n\u001b[0;32m      4\u001b[0m \u001b[0mtic_ds\u001b[0m \u001b[1;33m=\u001b[0m \u001b[0mtime\u001b[0m\u001b[1;33m.\u001b[0m\u001b[0mperf_counter\u001b[0m\u001b[1;33m(\u001b[0m\u001b[1;33m)\u001b[0m\u001b[1;33m\u001b[0m\u001b[1;33m\u001b[0m\u001b[0m\n\u001b[1;32m----> 5\u001b[1;33m \u001b[0mQuickSortDualPivot\u001b[0m\u001b[1;33m(\u001b[0m\u001b[0marr\u001b[0m\u001b[1;33m)\u001b[0m\u001b[1;33m\u001b[0m\u001b[1;33m\u001b[0m\u001b[0m\n\u001b[0m\u001b[0;32m      6\u001b[0m \u001b[0mtoc_ds\u001b[0m \u001b[1;33m=\u001b[0m \u001b[0mtime\u001b[0m\u001b[1;33m.\u001b[0m\u001b[0mperf_counter\u001b[0m\u001b[1;33m(\u001b[0m\u001b[1;33m)\u001b[0m\u001b[1;33m\u001b[0m\u001b[1;33m\u001b[0m\u001b[0m\n\u001b[0;32m      7\u001b[0m \u001b[0mprint\u001b[0m\u001b[1;33m(\u001b[0m\u001b[1;34mf\"Downloaded the dual pivot in {toc_ds - tic_ds:0.4f} seconds\"\u001b[0m\u001b[1;33m)\u001b[0m\u001b[1;33m\u001b[0m\u001b[1;33m\u001b[0m\u001b[0m\n",
      "\u001b[1;32m<ipython-input-34-0aea388b6124>\u001b[0m in \u001b[0;36mQuickSortDualPivot\u001b[1;34m(list)\u001b[0m\n\u001b[0;32m     19\u001b[0m             \u001b[0mc\u001b[0m\u001b[1;33m.\u001b[0m\u001b[0mappend\u001b[0m\u001b[1;33m(\u001b[0m\u001b[0melement\u001b[0m\u001b[1;33m)\u001b[0m\u001b[1;33m\u001b[0m\u001b[1;33m\u001b[0m\u001b[0m\n\u001b[0;32m     20\u001b[0m \u001b[1;33m\u001b[0m\u001b[0m\n\u001b[1;32m---> 21\u001b[1;33m     \u001b[1;32mreturn\u001b[0m \u001b[0mQuickSortDualPivot\u001b[0m\u001b[1;33m(\u001b[0m\u001b[0ma\u001b[0m\u001b[1;33m)\u001b[0m \u001b[1;33m+\u001b[0m \u001b[0mQuickSortDualPivot\u001b[0m\u001b[1;33m(\u001b[0m\u001b[0mb\u001b[0m\u001b[1;33m)\u001b[0m \u001b[1;33m+\u001b[0m \u001b[0mQuickSortDualPivot\u001b[0m\u001b[1;33m(\u001b[0m\u001b[0mc\u001b[0m\u001b[1;33m)\u001b[0m\u001b[1;33m\u001b[0m\u001b[1;33m\u001b[0m\u001b[0m\n\u001b[0m",
      "... last 1 frames repeated, from the frame below ...\n",
      "\u001b[1;32m<ipython-input-34-0aea388b6124>\u001b[0m in \u001b[0;36mQuickSortDualPivot\u001b[1;34m(list)\u001b[0m\n\u001b[0;32m     19\u001b[0m             \u001b[0mc\u001b[0m\u001b[1;33m.\u001b[0m\u001b[0mappend\u001b[0m\u001b[1;33m(\u001b[0m\u001b[0melement\u001b[0m\u001b[1;33m)\u001b[0m\u001b[1;33m\u001b[0m\u001b[1;33m\u001b[0m\u001b[0m\n\u001b[0;32m     20\u001b[0m \u001b[1;33m\u001b[0m\u001b[0m\n\u001b[1;32m---> 21\u001b[1;33m     \u001b[1;32mreturn\u001b[0m \u001b[0mQuickSortDualPivot\u001b[0m\u001b[1;33m(\u001b[0m\u001b[0ma\u001b[0m\u001b[1;33m)\u001b[0m \u001b[1;33m+\u001b[0m \u001b[0mQuickSortDualPivot\u001b[0m\u001b[1;33m(\u001b[0m\u001b[0mb\u001b[0m\u001b[1;33m)\u001b[0m \u001b[1;33m+\u001b[0m \u001b[0mQuickSortDualPivot\u001b[0m\u001b[1;33m(\u001b[0m\u001b[0mc\u001b[0m\u001b[1;33m)\u001b[0m\u001b[1;33m\u001b[0m\u001b[1;33m\u001b[0m\u001b[0m\n\u001b[0m",
      "\u001b[1;31mRecursionError\u001b[0m: maximum recursion depth exceeded while calling a Python object"
     ]
    }
   ],
   "source": [
    "\n",
    "#decreasing\n",
    "#arr = list(reversed(range(0, 100000)))\n",
    "\n",
    "tic_ds = time.perf_counter()\n",
    "QuickSortDualPivot(arr)\n",
    "toc_ds = time.perf_counter()\n",
    "print(f\"Downloaded the dual pivot in {toc_ds - tic_ds:0.4f} seconds\")"
   ]
  },
  {
   "cell_type": "code",
   "execution_count": null,
   "metadata": {},
   "outputs": [],
   "source": []
  }
 ],
 "metadata": {
  "kernelspec": {
   "display_name": "Python 3",
   "language": "python",
   "name": "python3"
  },
  "language_info": {
   "codemirror_mode": {
    "name": "ipython",
    "version": 3
   },
   "file_extension": ".py",
   "mimetype": "text/x-python",
   "name": "python",
   "nbconvert_exporter": "python",
   "pygments_lexer": "ipython3",
   "version": "3.7.6"
  }
 },
 "nbformat": 4,
 "nbformat_minor": 4
}
