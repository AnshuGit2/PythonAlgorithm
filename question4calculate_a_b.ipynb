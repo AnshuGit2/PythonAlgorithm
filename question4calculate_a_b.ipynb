{
 "cells": [
  {
   "cell_type": "code",
   "execution_count": 15,
   "metadata": {},
   "outputs": [
    {
     "name": "stdout",
     "output_type": "stream",
     "text": [
      "1\n"
     ]
    }
   ],
   "source": [
    "#Name:         Anshu Rathor \n",
    "#Program name: Calculate a and b \n",
    "#Date:         02/01/21\n",
    "#Program description: \n",
    "\n",
    "\n",
    "def power(a, b):             \n",
    "  \n",
    "    if (b == 0): return 1\n",
    "    elif (int(b % 2) == 0): \n",
    "        return (power(a, int(b / 2)) *\n",
    "               power(a, int(b / 2))) \n",
    "    else: \n",
    "        return (a * power(a, int(b / 2)) * power(a, int(b / 2)))\n",
    "a = 10; b = .2\n",
    "print(power(a, b))"
   ]
  },
  {
   "cell_type": "code",
   "execution_count": null,
   "metadata": {},
   "outputs": [],
   "source": []
  }
 ],
 "metadata": {
  "kernelspec": {
   "display_name": "Python 3",
   "language": "python",
   "name": "python3"
  },
  "language_info": {
   "codemirror_mode": {
    "name": "ipython",
    "version": 3
   },
   "file_extension": ".py",
   "mimetype": "text/x-python",
   "name": "python",
   "nbconvert_exporter": "python",
   "pygments_lexer": "ipython3",
   "version": "3.7.6"
  }
 },
 "nbformat": 4,
 "nbformat_minor": 4
}
