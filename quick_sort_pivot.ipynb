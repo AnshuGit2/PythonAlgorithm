{
 "cells": [
  {
   "cell_type": "code",
   "execution_count": 7,
   "metadata": {},
   "outputs": [
    {
     "name": "stdout",
     "output_type": "stream",
     "text": [
      "Sorted array is:\n",
      "1\n",
      "5\n",
      "7\n",
      "8\n",
      "9\n",
      "10\n"
     ]
    }
   ],
   "source": [
    "\n",
    "def partition(arr, low, high): \n",
    "    i = (low-1)         # index of smaller element \n",
    "    pivot = arr[high]     # pivot \n",
    "  \n",
    "    for j in range(low, high): \n",
    "  \n",
    "        # If current element is smaller than or \n",
    "        # equal to pivot \n",
    "        if arr[j] <= pivot: \n",
    "  \n",
    "            # increment index of smaller element \n",
    "            i = i+1\n",
    "            arr[i], arr[j] = arr[j], arr[i] \n",
    "  \n",
    "    arr[i+1], arr[high] = arr[high], arr[i+1] \n",
    "    return (i+1) \n",
    "  \n",
    "# The main function that implements QuickSort \n",
    "# arr[] --> Array to be sorted, \n",
    "# low  --> Starting index, \n",
    "# high  --> Ending index \n",
    "  \n",
    "# Function to do Quick sort \n",
    "  \n",
    "  \n",
    "def quickSort(arr, low, high): \n",
    "    if len(arr) == 1: \n",
    "        return arr \n",
    "    if low < high: \n",
    "  \n",
    "        # pi is partitioning index, arr[p] is now \n",
    "        # at right place \n",
    "        pi = partition(arr, low, high) \n",
    "  \n",
    "        # Separately sort elements before \n",
    "        # partition and after partition \n",
    "        quickSort(arr, low, pi-1) \n",
    "        quickSort(arr, pi+1, high) \n",
    "  \n",
    "  \n",
    "# Driver code to test above \n",
    "arr = [10, 7, 8, 9, 1, 5] \n",
    "n = len(arr) \n",
    "quickSort(arr, 0, n-1) \n",
    "print(\"Sorted array is:\") \n",
    "for i in range(n): \n",
    "    print(\"%d\" % arr[i]), \n",
    "   "
   ]
  },
  {
   "cell_type": "code",
   "execution_count": 16,
   "metadata": {},
   "outputs": [
    {
     "name": "stdout",
     "output_type": "stream",
     "text": [
      "[-6, -3, 1, 2, 3, 5, 6, 8, 9]\n"
     ]
    }
   ],
   "source": [
    "def partition(input_list,low,high):\n",
    "    i = (low - 1)\n",
    "    pivot = input_list[high]\n",
    "    for j in range(low, high):\n",
    "        if input_list[j] <= pivot:\n",
    "            i = i + 1\n",
    "            input_list[i], input_list[j] =  input_list[j], input_list[i]            \n",
    "    input_list[i+1],input_list[high] = input_list[high],input_list[i+1]\n",
    "    \n",
    "    return (i+1)\n",
    "\n",
    "def quickSort(input_list, low, high):\n",
    "    \n",
    "    if low < high:\n",
    "        partition_index = partition(input_list,low,high)\n",
    "        quickSort(input_list, low, partition_index - 1)\n",
    "        quickSort(input_list, partition_index + 1, high)\n",
    "        \n",
    "input_l = [9, -3, 5, 2, 6, 8, -6, 1, 3]\n",
    "\n",
    "#Let’s define our ‘high’ variable which will be the length of the list:\n",
    "\n",
    "list_length = len(input_l)\n",
    "quickSort(input_l, 0, list_length -1)\n",
    "\n",
    "print(input_l)"
   ]
  },
  {
   "cell_type": "code",
   "execution_count": 17,
   "metadata": {},
   "outputs": [
    {
     "name": "stdout",
     "output_type": "stream",
     "text": [
      "[-6, -3, 1, 2, 3, 5, 6, 8, 9]\n"
     ]
    }
   ],
   "source": [
    "quickSort(input_l, 0, list_length -1)\n",
    "print(input_l)"
   ]
  },
  {
   "cell_type": "code",
   "execution_count": 18,
   "metadata": {},
   "outputs": [
    {
     "name": "stdout",
     "output_type": "stream",
     "text": [
      "[-6, -3, 1, 2, 3, 5, 6, 8, 9]\n"
     ]
    }
   ],
   "source": [
    "def partition(arr_list_list,low,high):\n",
    "    i = (low - 1)\n",
    "    pivot = arr_list_list[high]\n",
    "    for j in range(low, high):\n",
    "        if arr_list_list[j] <= pivot:\n",
    "            i = i + 1\n",
    "            arr_list_list[i], arr_list_list[j] =  arr_list_list[j], arr_list_list[i]            \n",
    "    arr_list_list[i+1],arr_list_list[high] = arr_list_list[high],arr_list_list[i+1]\n",
    "    \n",
    "    return (i+1)\n",
    "\n",
    "def quickSort(arr_list_list, low, high):\n",
    "    \n",
    "    if low < high:\n",
    "        partition_index = partition(arr_list_list,low,high)\n",
    "        quickSort(arr_list_list, low, partition_index - 1)\n",
    "        quickSort(arr_list_list, partition_index + 1, high)\n",
    "        \n",
    "arr_list_l = [9, -3, 5, 2, 6, 8, -6, 1, 3]\n",
    "\n",
    "#Let’s define our ‘high’ variable which will be the length of the list:\n",
    "\n",
    "list_length = len(arr_list_l)\n",
    "quickSort(arr_list_l, 0, list_length -1)\n",
    "\n",
    "print(arr_list_l)\n"
   ]
  }
 ],
 "metadata": {
  "kernelspec": {
   "display_name": "Python 3",
   "language": "python",
   "name": "python3"
  },
  "language_info": {
   "codemirror_mode": {
    "name": "ipython",
    "version": 3
   },
   "file_extension": ".py",
   "mimetype": "text/x-python",
   "name": "python",
   "nbconvert_exporter": "python",
   "pygments_lexer": "ipython3",
   "version": "3.7.6"
  }
 },
 "nbformat": 4,
 "nbformat_minor": 4
}
