{
 "cells": [
  {
   "cell_type": "code",
   "execution_count": 4,
   "metadata": {},
   "outputs": [
    {
     "name": "stdout",
     "output_type": "stream",
     "text": [
      "Sorted Array in Ascending Order:\n",
      "[0, 1, 2, 6, 7, 8, 9]\n"
     ]
    }
   ],
   "source": [
    "\n",
    "# Quick sort in Python\n",
    "\n",
    "\n",
    "# Function to partition the array on the basis of pivot element\n",
    "def partition(array, low, high):\n",
    "\n",
    "    # Select the pivot element\n",
    "    pivot = array[high]\n",
    "    i = low - 1\n",
    "    \n",
    "    \n",
    "\n",
    "    # Put the elements smaller than pivot on the left and greater \n",
    "    #than pivot on the right of pivot\n",
    "    for j in range(low, high):\n",
    "        if array[j] <= pivot:\n",
    "            i = i + 1\n",
    "            (array[i], array[j]) = (array[j], array[i])\n",
    "\n",
    "    (array[i + 1], array[high]) = (array[high], array[i + 1])\n",
    "\n",
    "    return i + 1\n",
    "\n",
    "\n",
    "def quickSort(array, low, high):\n",
    "    if low < high:\n",
    "\n",
    "        # Select pivot position and put all the elements smaller \n",
    "        # than pivot on left and greater than pivot on right\n",
    "        pi = partition(array, low, high)\n",
    "\n",
    "        # Sort the elements on the left of pivot\n",
    "        quickSort(array, low, pi - 1)\n",
    "\n",
    "        # Sort the elements on the right of pivot\n",
    "        quickSort(array, pi + 1, high)\n",
    "\n",
    "\n",
    "data = [8, 7, 2, 1, 0, 9, 6]\n",
    "size = len(data)\n",
    "quickSort(data, 0, size - 1)\n",
    "print('Sorted Array in Ascending Order:')\n",
    "print(data)"
   ]
  },
  {
   "cell_type": "code",
   "execution_count": 3,
   "metadata": {},
   "outputs": [
    {
     "name": "stdout",
     "output_type": "stream",
     "text": [
      "10 \n",
      "11 9 2 3 4 5 66 9 10 1\n",
      "1 2 3 4 5 9 9 10 11 66\n"
     ]
    }
   ],
   "source": [
    "#Python 3 \n",
    "import random\n",
    "\n",
    "def quicksort3(arr, l, r):\n",
    "    # print('Splitting:', arr[l:r])\n",
    "    if l + 1 >= r:\n",
    "        return\n",
    "\n",
    "    # Pivot selection; Return a random integer N such that l <= N <= r\n",
    "    m = random.randint(l, r-1)\n",
    "    # temp = sorted([(0,arr[0]), ((l+r)//2,arr[(l+r)//2]), (-1,arr[-1])], key = lambda x: x[1])\n",
    "    # m = temp[1][0]\n",
    "    arr[l], arr[m] = arr[m], arr[l]\n",
    "\n",
    "    # partition procedure\n",
    "    m1, m2 = partition3(arr, l, r)\n",
    "\n",
    "    quicksort3(arr, l, m1)\n",
    "    quicksort3(arr, m2+1, r)\n",
    "\n",
    "def partition3(arr, l, r):\n",
    "    m2 = l\n",
    "    for i in range(l+1, r):\n",
    "        if arr[i] <= arr[l]:\n",
    "            arr[m2+1], arr[i] = arr[i], arr[m2+1]\n",
    "            m2 += 1\n",
    "\n",
    "    arr[l], arr[m2] = arr[m2], arr[l]\n",
    "\n",
    "    m1 = l\n",
    "    for i in range(l, m2):\n",
    "        if arr[i] < arr[m2]:\n",
    "            arr[i], arr[m1] = arr[m1], arr[i]\n",
    "            m1 += 1\n",
    "    return m1, m2\n",
    "\n",
    "def create_array(size):\n",
    "    return [random.choice(list(range(10))) for _ in range(size)]\n",
    "\n",
    "n = int(input())\n",
    "seq = [int(i) for i in input().split()]\n",
    "\n",
    "quicksort3(seq, 0 , n)\n",
    "print(*seq)"
   ]
  },
  {
   "cell_type": "code",
   "execution_count": null,
   "metadata": {},
   "outputs": [],
   "source": []
  }
 ],
 "metadata": {
  "kernelspec": {
   "display_name": "Python 3",
   "language": "python",
   "name": "python3"
  },
  "language_info": {
   "codemirror_mode": {
    "name": "ipython",
    "version": 3
   },
   "file_extension": ".py",
   "mimetype": "text/x-python",
   "name": "python",
   "nbconvert_exporter": "python",
   "pygments_lexer": "ipython3",
   "version": "3.7.6"
  }
 },
 "nbformat": 4,
 "nbformat_minor": 4
}
