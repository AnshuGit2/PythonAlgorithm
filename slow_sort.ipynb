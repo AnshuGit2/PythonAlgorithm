{
 "cells": [
  {
   "cell_type": "code",
   "execution_count": 11,
   "metadata": {},
   "outputs": [
    {
     "name": "stdout",
     "output_type": "stream",
     "text": [
      "Result: [513, 9803, 50916, 68290, 75356, 82940, 87327, 91630, 92143, 94562]\n",
      "Time:  8.529999990969372e-05\n"
     ]
    }
   ],
   "source": [
    "import timeit                          # time module\n",
    "import random                          # random module\n",
    "\n",
    "\n",
    "def SlowSort(A, i, j):                 # initilizing funtion           \n",
    "    if i >= j:\n",
    "        return\n",
    "    \n",
    "    m = ((i + j) // 2)\n",
    "    SlowSort(A, i, m)\n",
    "    SlowSort(A, m + 1, j)\n",
    "    \n",
    "    if A[m] > A[j]:\n",
    "        A[m], A[j] = A[j], A[m]  # swaping\n",
    "    SlowSort(A, i, j - 1)\n",
    "    \n",
    "    return A\n",
    "\n",
    "\n",
    "# Example run of SlowSort\n",
    "def main():\n",
    "    #arr = [2, 7, 9, 3, 1, 6, 5, 4, 12]\n",
    "    arr = random.sample(range(1, 100000), 10)   \n",
    "    \n",
    "    start = timeit.default_timer()\n",
    "    print(\"Result: \" + str(SlowSort(arr, 0, len(arr) - 1)))\n",
    "    \n",
    "    stop = timeit.default_timer()\n",
    "    print('Time: ', stop - start)  \n",
    "\n",
    "if __name__ == \"__main__\":\n",
    "    main()\n",
    "    \n",
    "   \n",
    "Slowsort is a recursive algorithm.\n",
    "•\tSort the first half recursively (1.1)\n",
    "•\tSort the second half recursively (1.2)\n",
    "•\tFind the maximum of the whole array by comparing the results of 1.1 and 1.2 and place it at the end of the list (1.3)\n",
    "•\tRecursively sort the entire list without the maximum in 1.3 (2).\n",
    "An implementation in Haskell (purely functional) may look as follows.\n",
    "slowsort :: (Ord a) => [a] -> [a]\n",
    "slowsort xs\n",
    "  | length xs <= 1 = xs\n",
    "  | otherwise      = slowsort xs' ++ [max llast rlast]  -- (2)\n",
    "  where m     = length xs `div` 2\n",
    "        l     = slowsort $ take m xs  -- (1.1)\n",
    "        r     = slowsort $ drop m xs  -- (1.2)\n",
    "        llast = last l\n",
    "        rlast = last r\n",
    "        xs'   = init l ++ min llast rlast : init r\n",
    "Complexity[edit]\n",
    "The runtime   for Slowsort is  . A lower asymptotic bound for   in Landau notation is   for any  . Slowsort is therefore not in polynomial time. Even the best case is worse than Bubble sort.\n",
    "\n",
    "\n",
    "\n",
    "\n",
    "\n"
   ]
  },
  {
   "cell_type": "code",
   "execution_count": 10,
   "metadata": {},
   "outputs": [
    {
     "name": "stdout",
     "output_type": "stream",
     "text": [
      "Result: [253, 3605, 3974, 25459, 26416, 35551, 35812, 50540, 61706, 92791]\n",
      "Time:  0.000130899999930989\n"
     ]
    }
   ],
   "source": [
    "slow_sort()"
   ]
  },
  {
   "cell_type": "code",
   "execution_count": 6,
   "metadata": {},
   "outputs": [],
   "source": [
    "import random\n",
    "randomlist = random.sample(range(1, 100000), 1000)\n"
   ]
  },
  {
   "cell_type": "code",
   "execution_count": null,
   "metadata": {},
   "outputs": [],
   "source": [
    "#randomlist"
   ]
  },
  {
   "cell_type": "code",
   "execution_count": null,
   "metadata": {},
   "outputs": [],
   "source": []
  },
  {
   "cell_type": "code",
   "execution_count": null,
   "metadata": {},
   "outputs": [],
   "source": []
  },
  {
   "cell_type": "code",
   "execution_count": null,
   "metadata": {},
   "outputs": [],
   "source": []
  }
 ],
 "metadata": {
  "kernelspec": {
   "display_name": "Python 3",
   "language": "python",
   "name": "python3"
  },
  "language_info": {
   "codemirror_mode": {
    "name": "ipython",
    "version": 3
   },
   "file_extension": ".py",
   "mimetype": "text/x-python",
   "name": "python",
   "nbconvert_exporter": "python",
   "pygments_lexer": "ipython3",
   "version": "3.7.6"
  }
 },
 "nbformat": 4,
 "nbformat_minor": 4
}
